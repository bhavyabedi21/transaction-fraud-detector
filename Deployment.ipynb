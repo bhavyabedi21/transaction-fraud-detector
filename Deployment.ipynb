{
 "cells": [
  {
   "cell_type": "code",
   "execution_count": 1,
   "id": "dd8b5622-2b99-4a82-8da9-e396099fded4",
   "metadata": {},
   "outputs": [
    {
     "name": "stdout",
     "output_type": "stream",
     "text": [
      "Writing fraudsniff_app.py\n"
     ]
    }
   ],
   "source": [
    "%%writefile fraudsniff_app.py\n",
    "\n",
    "import numpy as np\n",
    "import pandas as pd\n",
    "import streamlit as st\n",
    "import joblib\n",
    "\n",
    "with open('final_model.joblib', 'rb') as file:\n",
    "    model = joblib.load(file)\n",
    "\n",
    "\n",
    "def prediction(input_list):\n",
    "    input_list = np.array(input_list, dtype=object)\n",
    "    pred = model.predict_proba([input_list])[:, 1][0]\n",
    "    chance = round(pred * 100, 2)\n",
    "    if pred > 0.5:\n",
    "        return f'This transaction is more likely to be fraudulent, chances {chance}%'\n",
    "    else:\n",
    "        return f'This transaction is less likely to be fraudulent, chances {chance}%'\n",
    "\n",
    "def main():\n",
    "    st.title('FRAUDSNIFF - Transaction Fraud Detector')\n",
    "\n",
    "    day = st.slider('Enter the day of the month on which the transaction occurred', min_value=1, max_value=31, step=1)\n",
    "    hour = st.slider('At what hour of the day did the transaction occur? (Use 24-hour format, e.g., 14 for 2 PM)', min_value=1, max_value=24, step=1)\n",
    "    type_trans = st.selectbox('Select the type of transaction', ['Cash In', 'Cash Out', 'Debit', 'Payment', 'Transfer'])\n",
    "    amt = st.text_input('Enter the total amount of transaction')\n",
    "    oldbalorg = st.text_input('Enter the balance of the account of sender before transaction')\n",
    "    newbalorg = st.text_input('Enter the balance of the account of sender after transaction')\n",
    "    oldbaldes = st.text_input('Enter the balance of the account of receiver before transaction')\n",
    "    newbaldes = st.text_input('Enter the balance of the account of receiver after transaction')\n",
    "\n",
    "    type_trans_cashin = 0\n",
    "    type_trans_cashout = 0\n",
    "    type_trans_debit = 0\n",
    "    type_trans_payment = 0\n",
    "    type_trans_transfer = 0\n",
    "\n",
    "    if type_transfer == 'Cash In':\n",
    "        type_trans_cashin = 1\n",
    "    elif type_transfer == 'Cash Out':\n",
    "        type_trans_cashout = 1\n",
    "    elif type_transfer == 'Debit':\n",
    "        type_trans_debit = 1\n",
    "    elif type_transfer == 'Payment':\n",
    "        type_trans_payment = 1\n",
    "    else:\n",
    "        type_trans_transfer = 1\n",
    "        \n",
    "\n",
    "    if st.button('Predict'):\n",
    "        if not amt or not oldbalorg or not newbalorg or not oldbaldes or not newbaldes:\n",
    "            st.error(\"Please fill in all numeric fields\")\n",
    "            return\n",
    "\n",
    "        try:\n",
    "            amt_val = float(amt)\n",
    "            oldbalorg_val = float(oldbalorg)\n",
    "            newbalorg_val = float(newbalorg)\n",
    "            oldbaldes_val = float(oldbaldes)\n",
    "            newbaldes_val = float(newbaldes)\n",
    "        except ValueError:\n",
    "            st.error(\"Enter valid numbers in numeric fields\")\n",
    "            return\n",
    "\n",
    "        inp_list = [day, hour, type_trans_cashin, type_trans_cashout, type_trans_debit, type_trans_payment,\n",
    "                    type_trans_transfer, amt_val, oldbalorg_val, newbalorg_val, oldbaldes_val, newbaldes_val]\n",
    "\n",
    "        response = prediction(inp_list)\n",
    "        st.success(response)\n",
    "\n",
    "if __name__ == '__main__':\n",
    "    main()"
   ]
  },
  {
   "cell_type": "code",
   "execution_count": null,
   "id": "2b13681b-4c41-404a-b6cc-a8e96fe75713",
   "metadata": {},
   "outputs": [],
   "source": []
  }
 ],
 "metadata": {
  "kernelspec": {
   "display_name": "Python [conda env:base] *",
   "language": "python",
   "name": "conda-base-py"
  },
  "language_info": {
   "codemirror_mode": {
    "name": "ipython",
    "version": 3
   },
   "file_extension": ".py",
   "mimetype": "text/x-python",
   "name": "python",
   "nbconvert_exporter": "python",
   "pygments_lexer": "ipython3",
   "version": "3.12.7"
  }
 },
 "nbformat": 4,
 "nbformat_minor": 5
}
