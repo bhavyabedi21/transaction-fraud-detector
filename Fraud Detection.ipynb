{
 "cells": [
  {
   "cell_type": "markdown",
   "id": "8d2fe351-5d9e-41b8-831c-dbd7bc38b1b4",
   "metadata": {},
   "source": [
    "# ONLINE PAYMENT FRAUD DETECTION"
   ]
  },
  {
   "cell_type": "raw",
   "id": "cdc6bcd8-d430-4d83-9888-0f403b286536",
   "metadata": {},
   "source": [
    "The surge in digital transactions has brought about a sharp rise in online payment fraud, posing serious risks to both financial institutions and their customers. Traditional rule-based detection systems often lack the flexibility and speed needed to keep up with constantly evolving fraudulent tactics, leading to significant financial losses and diminished customer confidence. To tackle this issue, a more adaptive, data-driven approach is essential. This project focuses on building a machine learning model capable of accurately identifying fraudulent online payment transactions in real time, aiming to reduce financial damage and strengthen the overall security of the digital payment landscape.\n",
    "\n",
    "Feature\tDescription:\n",
    "\n",
    "step --------------- tells about the unit of time\n",
    "type --------------- type of transaction done\n",
    "amount ------------ the total amount of transaction\n",
    "nameOrg\t----------- account that starts the transaction \n",
    "oldbalanceOrg ----- Balance of the account of sender before transaction\n",
    "newbalanceOrg ----- Balance of the account of sender after transaction\n",
    "nameDest ---------- account that receives the transaction\n",
    "oldbalanceDest ---- Balance of the account of receiver before transaction\n",
    "newbalanceDest ---- Balance of the account of receiver after transaction\n",
    "isFraud\t----------- The value to be predicted i.e. 0 or 1"
   ]
  },
  {
   "cell_type": "code",
   "execution_count": 1,
   "id": "e2080ade-f76a-4cc0-81eb-baa56458591e",
   "metadata": {},
   "outputs": [],
   "source": [
    "# Import the required libraries\n",
    "\n",
    "import warnings\n",
    "warnings.filterwarnings('ignore')\n",
    "\n",
    "import numpy as np\n",
    "import pandas as pd\n",
    "import matplotlib.pyplot as plt\n",
    "import seaborn as sns\n",
    "\n",
    "from sklearn.metrics import (accuracy_score, recall_score, precision_score, f1_score, roc_auc_score, roc_curve, cohen_kappa_score, \n",
    "                            classification_report)\n",
    "from sklearn.model_selection import (GridSearchCV, KFold, cross_val_score, train_test_split)\n",
    "from sklearn.linear_model import LogisticRegression\n",
    "from sklearn.tree import DecisionTreeClassifier\n",
    "from sklearn.naive_bayes import GaussianNB, MultinomialNB\n",
    "from sklearn.neighbors import KNeighborsClassifier\n",
    "from sklearn.ensemble import (RandomForestClassifier, AdaBoostClassifier, GradientBoostingClassifier)\n",
    "from xgboost import XGBClassifier\n",
    "from lightgbm import LGBMClassifier"
   ]
  },
  {
   "cell_type": "code",
   "execution_count": 2,
   "id": "dc39bd93-ee3c-49cf-a391-661ed77a159f",
   "metadata": {},
   "outputs": [],
   "source": [
    "# load the dataset\n",
    "data = pd.read_csv('Dataset.csv')"
   ]
  },
  {
   "cell_type": "code",
   "execution_count": 3,
   "id": "e029a320-da59-4a4e-8beb-fc8371854063",
   "metadata": {},
   "outputs": [
    {
     "data": {
      "text/html": [
       "<div>\n",
       "<style scoped>\n",
       "    .dataframe tbody tr th:only-of-type {\n",
       "        vertical-align: middle;\n",
       "    }\n",
       "\n",
       "    .dataframe tbody tr th {\n",
       "        vertical-align: top;\n",
       "    }\n",
       "\n",
       "    .dataframe thead th {\n",
       "        text-align: right;\n",
       "    }\n",
       "</style>\n",
       "<table border=\"1\" class=\"dataframe\">\n",
       "  <thead>\n",
       "    <tr style=\"text-align: right;\">\n",
       "      <th></th>\n",
       "      <th>step</th>\n",
       "      <th>type</th>\n",
       "      <th>amount</th>\n",
       "      <th>nameOrig</th>\n",
       "      <th>oldbalanceOrg</th>\n",
       "      <th>newbalanceOrig</th>\n",
       "      <th>nameDest</th>\n",
       "      <th>oldbalanceDest</th>\n",
       "      <th>newbalanceDest</th>\n",
       "      <th>isFraud</th>\n",
       "    </tr>\n",
       "  </thead>\n",
       "  <tbody>\n",
       "    <tr>\n",
       "      <th>0</th>\n",
       "      <td>1</td>\n",
       "      <td>PAYMENT</td>\n",
       "      <td>9839.64</td>\n",
       "      <td>C1231006815</td>\n",
       "      <td>170136.0</td>\n",
       "      <td>160296.36</td>\n",
       "      <td>M1979787155</td>\n",
       "      <td>0.0</td>\n",
       "      <td>0.0</td>\n",
       "      <td>0</td>\n",
       "    </tr>\n",
       "    <tr>\n",
       "      <th>1</th>\n",
       "      <td>1</td>\n",
       "      <td>PAYMENT</td>\n",
       "      <td>1864.28</td>\n",
       "      <td>C1666544295</td>\n",
       "      <td>21249.0</td>\n",
       "      <td>19384.72</td>\n",
       "      <td>M2044282225</td>\n",
       "      <td>0.0</td>\n",
       "      <td>0.0</td>\n",
       "      <td>0</td>\n",
       "    </tr>\n",
       "    <tr>\n",
       "      <th>2</th>\n",
       "      <td>1</td>\n",
       "      <td>TRANSFER</td>\n",
       "      <td>181.00</td>\n",
       "      <td>C1305486145</td>\n",
       "      <td>181.0</td>\n",
       "      <td>0.00</td>\n",
       "      <td>C553264065</td>\n",
       "      <td>0.0</td>\n",
       "      <td>0.0</td>\n",
       "      <td>1</td>\n",
       "    </tr>\n",
       "    <tr>\n",
       "      <th>3</th>\n",
       "      <td>1</td>\n",
       "      <td>CASH_OUT</td>\n",
       "      <td>181.00</td>\n",
       "      <td>C840083671</td>\n",
       "      <td>181.0</td>\n",
       "      <td>0.00</td>\n",
       "      <td>C38997010</td>\n",
       "      <td>21182.0</td>\n",
       "      <td>0.0</td>\n",
       "      <td>1</td>\n",
       "    </tr>\n",
       "    <tr>\n",
       "      <th>4</th>\n",
       "      <td>1</td>\n",
       "      <td>PAYMENT</td>\n",
       "      <td>11668.14</td>\n",
       "      <td>C2048537720</td>\n",
       "      <td>41554.0</td>\n",
       "      <td>29885.86</td>\n",
       "      <td>M1230701703</td>\n",
       "      <td>0.0</td>\n",
       "      <td>0.0</td>\n",
       "      <td>0</td>\n",
       "    </tr>\n",
       "  </tbody>\n",
       "</table>\n",
       "</div>"
      ],
      "text/plain": [
       "   step      type    amount     nameOrig  oldbalanceOrg  newbalanceOrig  \\\n",
       "0     1   PAYMENT   9839.64  C1231006815       170136.0       160296.36   \n",
       "1     1   PAYMENT   1864.28  C1666544295        21249.0        19384.72   \n",
       "2     1  TRANSFER    181.00  C1305486145          181.0            0.00   \n",
       "3     1  CASH_OUT    181.00   C840083671          181.0            0.00   \n",
       "4     1   PAYMENT  11668.14  C2048537720        41554.0        29885.86   \n",
       "\n",
       "      nameDest  oldbalanceDest  newbalanceDest  isFraud  \n",
       "0  M1979787155             0.0             0.0        0  \n",
       "1  M2044282225             0.0             0.0        0  \n",
       "2   C553264065             0.0             0.0        1  \n",
       "3    C38997010         21182.0             0.0        1  \n",
       "4  M1230701703             0.0             0.0        0  "
      ]
     },
     "execution_count": 3,
     "metadata": {},
     "output_type": "execute_result"
    }
   ],
   "source": [
    "data.head()"
   ]
  },
  {
   "cell_type": "code",
   "execution_count": 4,
   "id": "8588d184-c12b-4c11-b543-fc06f40ab9f4",
   "metadata": {},
   "outputs": [
    {
     "name": "stdout",
     "output_type": "stream",
     "text": [
      "<class 'pandas.core.frame.DataFrame'>\n",
      "RangeIndex: 6362620 entries, 0 to 6362619\n",
      "Data columns (total 10 columns):\n",
      " #   Column          Dtype  \n",
      "---  ------          -----  \n",
      " 0   step            int64  \n",
      " 1   type            object \n",
      " 2   amount          float64\n",
      " 3   nameOrig        object \n",
      " 4   oldbalanceOrg   float64\n",
      " 5   newbalanceOrig  float64\n",
      " 6   nameDest        object \n",
      " 7   oldbalanceDest  float64\n",
      " 8   newbalanceDest  float64\n",
      " 9   isFraud         int64  \n",
      "dtypes: float64(5), int64(2), object(3)\n",
      "memory usage: 485.4+ MB\n"
     ]
    }
   ],
   "source": [
    "data.info()"
   ]
  },
  {
   "cell_type": "code",
   "execution_count": 5,
   "id": "b6b864f5-6af8-4e51-a5a0-cf660a8a4225",
   "metadata": {},
   "outputs": [
    {
     "data": {
      "text/plain": [
       "step              0\n",
       "type              0\n",
       "amount            0\n",
       "nameOrig          0\n",
       "oldbalanceOrg     0\n",
       "newbalanceOrig    0\n",
       "nameDest          0\n",
       "oldbalanceDest    0\n",
       "newbalanceDest    0\n",
       "isFraud           0\n",
       "dtype: int64"
      ]
     },
     "execution_count": 5,
     "metadata": {},
     "output_type": "execute_result"
    }
   ],
   "source": [
    "# Let's check for missing values\n",
    "data.isnull().sum()\n",
    "\n",
    "# No missing values"
   ]
  },
  {
   "cell_type": "code",
   "execution_count": 6,
   "id": "a3694c6f-1389-4d52-8842-4c4eb3e15e21",
   "metadata": {},
   "outputs": [
    {
     "data": {
      "text/plain": [
       "np.int64(0)"
      ]
     },
     "execution_count": 6,
     "metadata": {},
     "output_type": "execute_result"
    }
   ],
   "source": [
    "# Let's check for duplicate values\n",
    "data.duplicated().sum()\n",
    "\n",
    "# No duplicate Values"
   ]
  },
  {
   "cell_type": "code",
   "execution_count": 7,
   "id": "a4628f0a-8e21-4d2f-80e5-c961fc62d2e3",
   "metadata": {},
   "outputs": [],
   "source": [
    "# The columns 'nameOrig' and 'nameDest' are not of much significance, let's drop these columns\n",
    "data.drop(columns = ['nameOrig', 'nameDest'], inplace=True)"
   ]
  },
  {
   "cell_type": "markdown",
   "id": "6fdb4a4b-bb47-4353-aaec-cde77015bf53",
   "metadata": {},
   "source": [
    "## Feature Engineering"
   ]
  },
  {
   "cell_type": "code",
   "execution_count": 8,
   "id": "f995fad8-5fa6-4097-869a-44354c697fbc",
   "metadata": {},
   "outputs": [],
   "source": [
    "# Let's perform some feature engineering and create relevant features; also delete the features which are not required)"
   ]
  },
  {
   "cell_type": "code",
   "execution_count": 9,
   "id": "02f351e9-4fb1-4989-aaca-5080dcfc1245",
   "metadata": {},
   "outputs": [],
   "source": [
    "data['day'] = ((data['step'] - 1) // 24) + 1\n",
    "data['hour_of_day'] = (data['step'] - 1) % 24"
   ]
  },
  {
   "cell_type": "code",
   "execution_count": 10,
   "id": "1a16f77c-48cf-409a-930d-71422da615a1",
   "metadata": {},
   "outputs": [],
   "source": [
    "def time_segment(hour):\n",
    "    if 0 <= hour <= 5:\n",
    "        return 'Mid_Night'\n",
    "    elif 6 <= hour <= 11:\n",
    "        return 'Morning'\n",
    "    elif 12 <= hour <= 17:\n",
    "        return 'Afternoon'\n",
    "    elif 18 <= hour <= 21:\n",
    "        return 'Evening'\n",
    "    else:\n",
    "        return 'Night'\n",
    "\n",
    "data['time_segment'] = data['hour_of_day'].apply(time_segment)"
   ]
  },
  {
   "cell_type": "code",
   "execution_count": 11,
   "id": "b8ba5f03-315f-4a65-973e-17e2806d5be4",
   "metadata": {},
   "outputs": [
    {
     "data": {
      "text/plain": [
       "time_segment\n",
       "Afternoon    2786875\n",
       "Morning      1674560\n",
       "Evening      1643903\n",
       "Night         212844\n",
       "Mid_Night      44438\n",
       "Name: count, dtype: int64"
      ]
     },
     "execution_count": 11,
     "metadata": {},
     "output_type": "execute_result"
    }
   ],
   "source": [
    "data['time_segment'].value_counts()"
   ]
  },
  {
   "cell_type": "markdown",
   "id": "d1f1bce8-ae15-4155-9f40-42958f83e9ed",
   "metadata": {},
   "source": [
    "## Feature Encoding"
   ]
  },
  {
   "cell_type": "code",
   "execution_count": 12,
   "id": "6cd266f7-5470-4dd8-beaa-4e5f5db84086",
   "metadata": {},
   "outputs": [],
   "source": [
    "# Performing Label encoding for categorical column 'time_segment'\n",
    "data['time_segment'] = data['time_segment'].map({'Afternoon':2, 'Morning':1, 'Evening':3, 'Night':4, 'Mid_Night':0})"
   ]
  },
  {
   "cell_type": "code",
   "execution_count": 13,
   "id": "e06bcbb8-367d-4028-96bb-a9656c9cea4c",
   "metadata": {},
   "outputs": [],
   "source": [
    "data.drop(columns='step', inplace=True)"
   ]
  },
  {
   "cell_type": "code",
   "execution_count": 14,
   "id": "56f2e506-5c1d-46bf-9a3c-f85c53c185cc",
   "metadata": {},
   "outputs": [
    {
     "data": {
      "text/plain": [
       "type\n",
       "CASH_OUT    2237500\n",
       "PAYMENT     2151495\n",
       "CASH_IN     1399284\n",
       "TRANSFER     532909\n",
       "DEBIT         41432\n",
       "Name: count, dtype: int64"
      ]
     },
     "execution_count": 14,
     "metadata": {},
     "output_type": "execute_result"
    }
   ],
   "source": [
    "data['type'].value_counts()"
   ]
  },
  {
   "cell_type": "raw",
   "id": "f23fb185-e2f0-4ddc-8d0c-dbe2b96e9a82",
   "metadata": {},
   "source": [
    "type_transaction = CASH_OUT, PAYMENT, CASH_IN, TRANSFER, DEBIT\n",
    "time_segment = Afternoon, Morning, Evening, Night, Mid_Night"
   ]
  },
  {
   "cell_type": "code",
   "execution_count": 15,
   "id": "921c6cc5-5514-4667-8ddd-588e14abdb4e",
   "metadata": {},
   "outputs": [],
   "source": [
    "# Performing One-Hot encoding for categorical column 'type'\n",
    "data = pd.get_dummies(data=data, dtype=int)"
   ]
  },
  {
   "cell_type": "code",
   "execution_count": 16,
   "id": "8ad43cdb-eae4-41ad-a451-15f7aaa3ba45",
   "metadata": {},
   "outputs": [],
   "source": [
    "data.drop(columns='hour_of_day', inplace=True)"
   ]
  },
  {
   "cell_type": "code",
   "execution_count": 17,
   "id": "e0b5be1f-694b-4a74-a34c-059774b83459",
   "metadata": {},
   "outputs": [],
   "source": [
    "data = data[['day', 'time_segment', 'type_CASH_IN','type_CASH_OUT', 'type_DEBIT', 'type_PAYMENT', 'type_TRANSFER','amount', 'oldbalanceOrg', \n",
    "             'newbalanceOrig', 'oldbalanceDest','newbalanceDest', 'isFraud']]"
   ]
  },
  {
   "cell_type": "code",
   "execution_count": 18,
   "id": "b76386a5-5af6-4c7e-93a1-e05d47b6df0a",
   "metadata": {},
   "outputs": [
    {
     "data": {
      "text/html": [
       "<div>\n",
       "<style scoped>\n",
       "    .dataframe tbody tr th:only-of-type {\n",
       "        vertical-align: middle;\n",
       "    }\n",
       "\n",
       "    .dataframe tbody tr th {\n",
       "        vertical-align: top;\n",
       "    }\n",
       "\n",
       "    .dataframe thead th {\n",
       "        text-align: right;\n",
       "    }\n",
       "</style>\n",
       "<table border=\"1\" class=\"dataframe\">\n",
       "  <thead>\n",
       "    <tr style=\"text-align: right;\">\n",
       "      <th></th>\n",
       "      <th>day</th>\n",
       "      <th>time_segment</th>\n",
       "      <th>type_CASH_IN</th>\n",
       "      <th>type_CASH_OUT</th>\n",
       "      <th>type_DEBIT</th>\n",
       "      <th>type_PAYMENT</th>\n",
       "      <th>type_TRANSFER</th>\n",
       "      <th>amount</th>\n",
       "      <th>oldbalanceOrg</th>\n",
       "      <th>newbalanceOrig</th>\n",
       "      <th>oldbalanceDest</th>\n",
       "      <th>newbalanceDest</th>\n",
       "      <th>isFraud</th>\n",
       "    </tr>\n",
       "  </thead>\n",
       "  <tbody>\n",
       "    <tr>\n",
       "      <th>0</th>\n",
       "      <td>1</td>\n",
       "      <td>0</td>\n",
       "      <td>0</td>\n",
       "      <td>0</td>\n",
       "      <td>0</td>\n",
       "      <td>1</td>\n",
       "      <td>0</td>\n",
       "      <td>9839.64</td>\n",
       "      <td>170136.0</td>\n",
       "      <td>160296.36</td>\n",
       "      <td>0.0</td>\n",
       "      <td>0.0</td>\n",
       "      <td>0</td>\n",
       "    </tr>\n",
       "    <tr>\n",
       "      <th>1</th>\n",
       "      <td>1</td>\n",
       "      <td>0</td>\n",
       "      <td>0</td>\n",
       "      <td>0</td>\n",
       "      <td>0</td>\n",
       "      <td>1</td>\n",
       "      <td>0</td>\n",
       "      <td>1864.28</td>\n",
       "      <td>21249.0</td>\n",
       "      <td>19384.72</td>\n",
       "      <td>0.0</td>\n",
       "      <td>0.0</td>\n",
       "      <td>0</td>\n",
       "    </tr>\n",
       "    <tr>\n",
       "      <th>2</th>\n",
       "      <td>1</td>\n",
       "      <td>0</td>\n",
       "      <td>0</td>\n",
       "      <td>0</td>\n",
       "      <td>0</td>\n",
       "      <td>0</td>\n",
       "      <td>1</td>\n",
       "      <td>181.00</td>\n",
       "      <td>181.0</td>\n",
       "      <td>0.00</td>\n",
       "      <td>0.0</td>\n",
       "      <td>0.0</td>\n",
       "      <td>1</td>\n",
       "    </tr>\n",
       "    <tr>\n",
       "      <th>3</th>\n",
       "      <td>1</td>\n",
       "      <td>0</td>\n",
       "      <td>0</td>\n",
       "      <td>1</td>\n",
       "      <td>0</td>\n",
       "      <td>0</td>\n",
       "      <td>0</td>\n",
       "      <td>181.00</td>\n",
       "      <td>181.0</td>\n",
       "      <td>0.00</td>\n",
       "      <td>21182.0</td>\n",
       "      <td>0.0</td>\n",
       "      <td>1</td>\n",
       "    </tr>\n",
       "    <tr>\n",
       "      <th>4</th>\n",
       "      <td>1</td>\n",
       "      <td>0</td>\n",
       "      <td>0</td>\n",
       "      <td>0</td>\n",
       "      <td>0</td>\n",
       "      <td>1</td>\n",
       "      <td>0</td>\n",
       "      <td>11668.14</td>\n",
       "      <td>41554.0</td>\n",
       "      <td>29885.86</td>\n",
       "      <td>0.0</td>\n",
       "      <td>0.0</td>\n",
       "      <td>0</td>\n",
       "    </tr>\n",
       "  </tbody>\n",
       "</table>\n",
       "</div>"
      ],
      "text/plain": [
       "   day  time_segment  type_CASH_IN  type_CASH_OUT  type_DEBIT  type_PAYMENT  \\\n",
       "0    1             0             0              0           0             1   \n",
       "1    1             0             0              0           0             1   \n",
       "2    1             0             0              0           0             0   \n",
       "3    1             0             0              1           0             0   \n",
       "4    1             0             0              0           0             1   \n",
       "\n",
       "   type_TRANSFER    amount  oldbalanceOrg  newbalanceOrig  oldbalanceDest  \\\n",
       "0              0   9839.64       170136.0       160296.36             0.0   \n",
       "1              0   1864.28        21249.0        19384.72             0.0   \n",
       "2              1    181.00          181.0            0.00             0.0   \n",
       "3              0    181.00          181.0            0.00         21182.0   \n",
       "4              0  11668.14        41554.0        29885.86             0.0   \n",
       "\n",
       "   newbalanceDest  isFraud  \n",
       "0             0.0        0  \n",
       "1             0.0        0  \n",
       "2             0.0        1  \n",
       "3             0.0        1  \n",
       "4             0.0        0  "
      ]
     },
     "execution_count": 18,
     "metadata": {},
     "output_type": "execute_result"
    }
   ],
   "source": [
    "data.head()"
   ]
  },
  {
   "cell_type": "markdown",
   "id": "204f192a-1350-47c4-8425-99da23c6e6a5",
   "metadata": {},
   "source": [
    "## Train-Test Split"
   ]
  },
  {
   "cell_type": "code",
   "execution_count": 19,
   "id": "f85c4e52-e447-4923-a9cf-877530379f18",
   "metadata": {},
   "outputs": [],
   "source": [
    "x = data.drop(columns='isFraud')\n",
    "y = data['isFraud']\n",
    "\n",
    "x_train, x_test, y_train, y_test = train_test_split(x,y, train_size=0.7,stratify=y, random_state=2)"
   ]
  },
  {
   "cell_type": "code",
   "execution_count": 20,
   "id": "da836602-62e1-4bdc-9238-227f1f998eb2",
   "metadata": {},
   "outputs": [
    {
     "name": "stdout",
     "output_type": "stream",
     "text": [
      "(4453834, 12) (4453834,)\n",
      "(1908786, 12) (1908786,)\n"
     ]
    }
   ],
   "source": [
    "print(x_train.shape, y_train.shape)\n",
    "print(x_test.shape, y_test.shape)"
   ]
  },
  {
   "cell_type": "markdown",
   "id": "8e6664b8-2cae-4efa-9325-9be7e0f961ac",
   "metadata": {},
   "source": [
    "## Modular Coding (creating functions for tasks)"
   ]
  },
  {
   "cell_type": "code",
   "execution_count": 21,
   "id": "863aed60-c644-4de9-a081-adcfe57b1a8f",
   "metadata": {},
   "outputs": [],
   "source": [
    "def model_train(model,xtrain,ytrain,xtest,ytest):\n",
    "    m = model\n",
    "    m.fit(xtrain,ytrain)\n",
    "    pred_h = m.predict(xtest)\n",
    "    pred_s = m.predict_proba(xtest)[:,1]\n",
    "\n",
    "    return m, pred_h, pred_s"
   ]
  },
  {
   "cell_type": "code",
   "execution_count": 22,
   "id": "d19a1911-39ad-4d41-98b9-16a851381d73",
   "metadata": {},
   "outputs": [],
   "source": [
    "def model_score(predh,preds,ytest=y_test):\n",
    "    print('Classification Report')\n",
    "    print(classification_report(ytest,predh))\n",
    "\n",
    "    fpr, tpr, thres = roc_curve(ytest,preds)\n",
    "    plt.plot(fpr,tpr)\n",
    "    plt.plot([0,1],[0,1], color='red', ls = '--')\n",
    "    plt.title(f'ROC AUC: {round(roc_auc_score(ytest,preds),4)}')\n",
    "    plt.xlabel('FPR')\n",
    "    plt.ylabel('TPR')\n",
    "    plt.show()"
   ]
  },
  {
   "cell_type": "code",
   "execution_count": 23,
   "id": "67f29433-ddd1-431b-a334-bcf86f5ad092",
   "metadata": {},
   "outputs": [],
   "source": [
    "def model_tuning(model,grid,x=x_train,y=y_train,folds=6,score='roc_auc'):\n",
    "\n",
    "    gscv = GridSearchCV(estimator=model, param_grid=grid, scoring=score, cv=folds, verbose=1, n_jobs=-1)\n",
    "    gscv.fit(x,y)\n",
    "    print('Best Score', gscv.best_score_)\n",
    "    return gscv.best_params_"
   ]
  },
  {
   "cell_type": "code",
   "execution_count": 24,
   "id": "a3fff37a-0138-4424-b390-09eda17680fd",
   "metadata": {},
   "outputs": [],
   "source": [
    "mod = []\n",
    "accu = []\n",
    "rec = []\n",
    "prec = []\n",
    "f1 = []\n",
    "ck = []\n",
    "auc = []\n",
    "\n",
    "def model_name(model):\n",
    "    return str(model).split('(')[0]\n",
    "    \n",
    "def model_scorecard(model,predh,preds,ytest=y_test):\n",
    "    mod.append(model_name(model))\n",
    "    accu.append(accuracy_score(ytest,predh))\n",
    "    rec.append(recall_score(ytest,predh))\n",
    "    prec.append(precision_score(ytest,predh))\n",
    "    f1.append(f1_score(ytest,predh))\n",
    "    ck.append(cohen_kappa_score(ytest,predh))\n",
    "    auc.append(roc_auc_score(ytest,preds))\n",
    "\n",
    "    scorecard = pd.DataFrame({'Accuracy':accu,'Precision':prec,'Recall':rec,'F1':f1,'Cohen Kappa':ck,'ROC AUC':auc},index=mod)\n",
    "    return scorecard"
   ]
  },
  {
   "cell_type": "markdown",
   "id": "b1aeb6a8-f29d-4380-b262-f95c6cf07d84",
   "metadata": {},
   "source": [
    "## Logistic Regression"
   ]
  },
  {
   "cell_type": "code",
   "execution_count": 25,
   "id": "377bf947-4230-4c97-bc97-0affaef1b963",
   "metadata": {},
   "outputs": [],
   "source": [
    "model_lr, predh_lr, preds_lr = model_train(LogisticRegression(),\n",
    "                                          x_train, y_train, x_test, y_test)"
   ]
  },
  {
   "cell_type": "code",
   "execution_count": 26,
   "id": "8bcb16d3-2f92-4b8e-9367-e59117f6a731",
   "metadata": {},
   "outputs": [
    {
     "name": "stdout",
     "output_type": "stream",
     "text": [
      "Classification Report\n",
      "              precision    recall  f1-score   support\n",
      "\n",
      "           0       1.00      1.00      1.00   1906322\n",
      "           1       0.44      0.40      0.42      2464\n",
      "\n",
      "    accuracy                           1.00   1908786\n",
      "   macro avg       0.72      0.70      0.71   1908786\n",
      "weighted avg       1.00      1.00      1.00   1908786\n",
      "\n"
     ]
    },
    {
     "data": {
      "image/png": "[encoded data removed]",
      "text/plain": [
       "<Figure size 640x480 with 1 Axes>"
      ]
     },
     "metadata": {},
     "output_type": "display_data"
    }
   ],
   "source": [
    "model_score(predh_lr, preds_lr)"
   ]
  },
  {
   "cell_type": "code",
   "execution_count": 27,
   "id": "285455f4-237d-44f1-963c-525ccdef23df",
   "metadata": {},
   "outputs": [
    {
     "data": {
      "text/html": [
       "<div>\n",
       "<style scoped>\n",
       "    .dataframe tbody tr th:only-of-type {\n",
       "        vertical-align: middle;\n",
       "    }\n",
       "\n",
       "    .dataframe tbody tr th {\n",
       "        vertical-align: top;\n",
       "    }\n",
       "\n",
       "    .dataframe thead th {\n",
       "        text-align: right;\n",
       "    }\n",
       "</style>\n",
       "<table border=\"1\" class=\"dataframe\">\n",
       "  <thead>\n",
       "    <tr style=\"text-align: right;\">\n",
       "      <th></th>\n",
       "      <th>Accuracy</th>\n",
       "      <th>Precision</th>\n",
       "      <th>Recall</th>\n",
       "      <th>F1</th>\n",
       "      <th>Cohen Kappa</th>\n",
       "      <th>ROC AUC</th>\n",
       "    </tr>\n",
       "  </thead>\n",
       "  <tbody>\n",
       "    <tr>\n",
       "      <th>LogisticRegression</th>\n",
       "      <td>0.998581</td>\n",
       "      <td>0.444695</td>\n",
       "      <td>0.399756</td>\n",
       "      <td>0.42103</td>\n",
       "      <td>0.420322</td>\n",
       "      <td>0.863678</td>\n",
       "    </tr>\n",
       "  </tbody>\n",
       "</table>\n",
       "</div>"
      ],
      "text/plain": [
       "                    Accuracy  Precision    Recall       F1  Cohen Kappa  \\\n",
       "LogisticRegression  0.998581   0.444695  0.399756  0.42103     0.420322   \n",
       "\n",
       "                     ROC AUC  \n",
       "LogisticRegression  0.863678  "
      ]
     },
     "execution_count": 27,
     "metadata": {},
     "output_type": "execute_result"
    }
   ],
   "source": [
    "model_scorecard(model_lr,predh_lr,preds_lr)"
   ]
  },
  {
   "cell_type": "markdown",
   "id": "de82518a-79b1-481f-be87-89e9c53e11cc",
   "metadata": {},
   "source": [
    "## Naive Bayes'"
   ]
  },
  {
   "cell_type": "code",
   "execution_count": 28,
   "id": "c4b30017-5d6e-4310-855d-6772db79a2a8",
   "metadata": {},
   "outputs": [],
   "source": [
    "model_gnb, predh_gnb, preds_gnb = model_train(GaussianNB(),\n",
    "                                          x_train, y_train, x_test, y_test)"
   ]
  },
  {
   "cell_type": "code",
   "execution_count": 29,
   "id": "b4dcc99e-f2bf-424c-bd37-f21786513c52",
   "metadata": {},
   "outputs": [
    {
     "name": "stdout",
     "output_type": "stream",
     "text": [
      "Classification Report\n",
      "              precision    recall  f1-score   support\n",
      "\n",
      "           0       1.00      0.99      1.00   1906322\n",
      "           1       0.03      0.16      0.05      2464\n",
      "\n",
      "    accuracy                           0.99   1908786\n",
      "   macro avg       0.51      0.58      0.52   1908786\n",
      "weighted avg       1.00      0.99      0.99   1908786\n",
      "\n"
     ]
    },
    {
     "data": {
      "image/png": "[encoded data removed]",
      "text/plain": [
       "<Figure size 640x480 with 1 Axes>"
      ]
     },
     "metadata": {},
     "output_type": "display_data"
    }
   ],
   "source": [
    "model_score(predh_gnb, preds_gnb)"
   ]
  },
  {
   "cell_type": "code",
   "execution_count": 30,
   "id": "8338f168-430c-4827-85d1-443582e78926",
   "metadata": {},
   "outputs": [
    {
     "data": {
      "text/html": [
       "<div>\n",
       "<style scoped>\n",
       "    .dataframe tbody tr th:only-of-type {\n",
       "        vertical-align: middle;\n",
       "    }\n",
       "\n",
       "    .dataframe tbody tr th {\n",
       "        vertical-align: top;\n",
       "    }\n",
       "\n",
       "    .dataframe thead th {\n",
       "        text-align: right;\n",
       "    }\n",
       "</style>\n",
       "<table border=\"1\" class=\"dataframe\">\n",
       "  <thead>\n",
       "    <tr style=\"text-align: right;\">\n",
       "      <th></th>\n",
       "      <th>Accuracy</th>\n",
       "      <th>Precision</th>\n",
       "      <th>Recall</th>\n",
       "      <th>F1</th>\n",
       "      <th>Cohen Kappa</th>\n",
       "      <th>ROC AUC</th>\n",
       "    </tr>\n",
       "  </thead>\n",
       "  <tbody>\n",
       "    <tr>\n",
       "      <th>LogisticRegression</th>\n",
       "      <td>0.998581</td>\n",
       "      <td>0.444695</td>\n",
       "      <td>0.399756</td>\n",
       "      <td>0.421030</td>\n",
       "      <td>0.420322</td>\n",
       "      <td>0.863678</td>\n",
       "    </tr>\n",
       "    <tr>\n",
       "      <th>GaussianNB</th>\n",
       "      <td>0.991956</td>\n",
       "      <td>0.029493</td>\n",
       "      <td>0.163961</td>\n",
       "      <td>0.049994</td>\n",
       "      <td>0.047911</td>\n",
       "      <td>0.809429</td>\n",
       "    </tr>\n",
       "  </tbody>\n",
       "</table>\n",
       "</div>"
      ],
      "text/plain": [
       "                    Accuracy  Precision    Recall        F1  Cohen Kappa  \\\n",
       "LogisticRegression  0.998581   0.444695  0.399756  0.421030     0.420322   \n",
       "GaussianNB          0.991956   0.029493  0.163961  0.049994     0.047911   \n",
       "\n",
       "                     ROC AUC  \n",
       "LogisticRegression  0.863678  \n",
       "GaussianNB          0.809429  "
      ]
     },
     "execution_count": 30,
     "metadata": {},
     "output_type": "execute_result"
    }
   ],
   "source": [
    "model_scorecard(model_gnb,predh_gnb,preds_gnb)"
   ]
  },
  {
   "cell_type": "code",
   "execution_count": 31,
   "id": "cc074200-5fc2-4fd5-8ce8-87ce4b742f0d",
   "metadata": {},
   "outputs": [],
   "source": [
    "model_mnb, predh_mnb, preds_mnb = model_train(MultinomialNB(),\n",
    "                                          x_train, y_train, x_test, y_test)"
   ]
  },
  {
   "cell_type": "code",
   "execution_count": 32,
   "id": "d9e5043b-6fee-4f3f-aac2-0702c48dced5",
   "metadata": {},
   "outputs": [
    {
     "name": "stdout",
     "output_type": "stream",
     "text": [
      "Classification Report\n",
      "              precision    recall  f1-score   support\n",
      "\n",
      "           0       1.00      0.63      0.77   1906322\n",
      "           1       0.00      0.86      0.01      2464\n",
      "\n",
      "    accuracy                           0.63   1908786\n",
      "   macro avg       0.50      0.74      0.39   1908786\n",
      "weighted avg       1.00      0.63      0.77   1908786\n",
      "\n"
     ]
    },
    {
     "data": {
      "image/png": "[encoded data removed]",
      "text/plain": [
       "<Figure size 640x480 with 1 Axes>"
      ]
     },
     "metadata": {},
     "output_type": "display_data"
    }
   ],
   "source": [
    "model_score(predh_mnb, preds_mnb)"
   ]
  },
  {
   "cell_type": "code",
   "execution_count": 33,
   "id": "33e5f311-0cb1-4083-b4fd-cdf10ed09674",
   "metadata": {},
   "outputs": [
    {
     "data": {
      "text/html": [
       "<div>\n",
       "<style scoped>\n",
       "    .dataframe tbody tr th:only-of-type {\n",
       "        vertical-align: middle;\n",
       "    }\n",
       "\n",
       "    .dataframe tbody tr th {\n",
       "        vertical-align: top;\n",
       "    }\n",
       "\n",
       "    .dataframe thead th {\n",
       "        text-align: right;\n",
       "    }\n",
       "</style>\n",
       "<table border=\"1\" class=\"dataframe\">\n",
       "  <thead>\n",
       "    <tr style=\"text-align: right;\">\n",
       "      <th></th>\n",
       "      <th>Accuracy</th>\n",
       "      <th>Precision</th>\n",
       "      <th>Recall</th>\n",
       "      <th>F1</th>\n",
       "      <th>Cohen Kappa</th>\n",
       "      <th>ROC AUC</th>\n",
       "    </tr>\n",
       "  </thead>\n",
       "  <tbody>\n",
       "    <tr>\n",
       "      <th>LogisticRegression</th>\n",
       "      <td>0.998581</td>\n",
       "      <td>0.444695</td>\n",
       "      <td>0.399756</td>\n",
       "      <td>0.421030</td>\n",
       "      <td>0.420322</td>\n",
       "      <td>0.863678</td>\n",
       "    </tr>\n",
       "    <tr>\n",
       "      <th>GaussianNB</th>\n",
       "      <td>0.991956</td>\n",
       "      <td>0.029493</td>\n",
       "      <td>0.163961</td>\n",
       "      <td>0.049994</td>\n",
       "      <td>0.047911</td>\n",
       "      <td>0.809429</td>\n",
       "    </tr>\n",
       "    <tr>\n",
       "      <th>MultinomialNB</th>\n",
       "      <td>0.628481</td>\n",
       "      <td>0.002968</td>\n",
       "      <td>0.856331</td>\n",
       "      <td>0.005916</td>\n",
       "      <td>0.003351</td>\n",
       "      <td>0.742458</td>\n",
       "    </tr>\n",
       "  </tbody>\n",
       "</table>\n",
       "</div>"
      ],
      "text/plain": [
       "                    Accuracy  Precision    Recall        F1  Cohen Kappa  \\\n",
       "LogisticRegression  0.998581   0.444695  0.399756  0.421030     0.420322   \n",
       "GaussianNB          0.991956   0.029493  0.163961  0.049994     0.047911   \n",
       "MultinomialNB       0.628481   0.002968  0.856331  0.005916     0.003351   \n",
       "\n",
       "                     ROC AUC  \n",
       "LogisticRegression  0.863678  \n",
       "GaussianNB          0.809429  \n",
       "MultinomialNB       0.742458  "
      ]
     },
     "execution_count": 33,
     "metadata": {},
     "output_type": "execute_result"
    }
   ],
   "source": [
    "model_scorecard(model_mnb,predh_mnb,preds_mnb)"
   ]
  },
  {
   "cell_type": "markdown",
   "id": "481966ef-fe5c-4d20-9970-4c19afe3f974",
   "metadata": {},
   "source": [
    "## K-Nearest Neighbors"
   ]
  },
  {
   "cell_type": "code",
   "execution_count": 34,
   "id": "3640049e-7aa7-4e70-8a2a-1fcbc88614a4",
   "metadata": {},
   "outputs": [
    {
     "name": "stdout",
     "output_type": "stream",
     "text": [
      "Fitting 6 folds for each of 3 candidates, totalling 18 fits\n",
      "Best Score 0.9628236409904326\n"
     ]
    }
   ],
   "source": [
    "tuned_params = model_tuning(KNeighborsClassifier(),\n",
    "            {'n_neighbors':[40,50,60]})"
   ]
  },
  {
   "cell_type": "code",
   "execution_count": 35,
   "id": "9c86062c-df92-4d80-bb3c-2c0fabd1446d",
   "metadata": {},
   "outputs": [
    {
     "data": {
      "text/plain": [
       "{'n_neighbors': 60}"
      ]
     },
     "execution_count": 35,
     "metadata": {},
     "output_type": "execute_result"
    }
   ],
   "source": [
    "tuned_params"
   ]
  },
  {
   "cell_type": "code",
   "execution_count": 36,
   "id": "c83b163c-b716-45cf-b4d0-8580a16c6a83",
   "metadata": {},
   "outputs": [],
   "source": [
    "model_knn, predh_knn, preds_knn = model_train(KNeighborsClassifier(**tuned_params, n_jobs=-1),\n",
    "                                          x_train,y_train,x_test,y_test)"
   ]
  },
  {
   "cell_type": "code",
   "execution_count": 37,
   "id": "c6836c10-42e8-447d-aab3-97e7e014762f",
   "metadata": {},
   "outputs": [
    {
     "name": "stdout",
     "output_type": "stream",
     "text": [
      "Classification Report\n",
      "              precision    recall  f1-score   support\n",
      "\n",
      "           0       1.00      1.00      1.00   1906322\n",
      "           1       0.89      0.58      0.70      2464\n",
      "\n",
      "    accuracy                           1.00   1908786\n",
      "   macro avg       0.94      0.79      0.85   1908786\n",
      "weighted avg       1.00      1.00      1.00   1908786\n",
      "\n"
     ]
    },
    {
     "data": {
      "image/png": "[encoded data removed]",
      "text/plain": [
       "<Figure size 640x480 with 1 Axes>"
      ]
     },
     "metadata": {},
     "output_type": "display_data"
    }
   ],
   "source": [
    "model_score(predh_knn, preds_knn)"
   ]
  },
  {
   "cell_type": "code",
   "execution_count": 38,
   "id": "ef0e5ace-4662-49ac-a654-af9ae762e705",
   "metadata": {},
   "outputs": [
    {
     "data": {
      "text/html": [
       "<div>\n",
       "<style scoped>\n",
       "    .dataframe tbody tr th:only-of-type {\n",
       "        vertical-align: middle;\n",
       "    }\n",
       "\n",
       "    .dataframe tbody tr th {\n",
       "        vertical-align: top;\n",
       "    }\n",
       "\n",
       "    .dataframe thead th {\n",
       "        text-align: right;\n",
       "    }\n",
       "</style>\n",
       "<table border=\"1\" class=\"dataframe\">\n",
       "  <thead>\n",
       "    <tr style=\"text-align: right;\">\n",
       "      <th></th>\n",
       "      <th>Accuracy</th>\n",
       "      <th>Precision</th>\n",
       "      <th>Recall</th>\n",
       "      <th>F1</th>\n",
       "      <th>Cohen Kappa</th>\n",
       "      <th>ROC AUC</th>\n",
       "    </tr>\n",
       "  </thead>\n",
       "  <tbody>\n",
       "    <tr>\n",
       "      <th>LogisticRegression</th>\n",
       "      <td>0.998581</td>\n",
       "      <td>0.444695</td>\n",
       "      <td>0.399756</td>\n",
       "      <td>0.421030</td>\n",
       "      <td>0.420322</td>\n",
       "      <td>0.863678</td>\n",
       "    </tr>\n",
       "    <tr>\n",
       "      <th>GaussianNB</th>\n",
       "      <td>0.991956</td>\n",
       "      <td>0.029493</td>\n",
       "      <td>0.163961</td>\n",
       "      <td>0.049994</td>\n",
       "      <td>0.047911</td>\n",
       "      <td>0.809429</td>\n",
       "    </tr>\n",
       "    <tr>\n",
       "      <th>MultinomialNB</th>\n",
       "      <td>0.628481</td>\n",
       "      <td>0.002968</td>\n",
       "      <td>0.856331</td>\n",
       "      <td>0.005916</td>\n",
       "      <td>0.003351</td>\n",
       "      <td>0.742458</td>\n",
       "    </tr>\n",
       "    <tr>\n",
       "      <th>KNeighborsClassifier</th>\n",
       "      <td>0.999361</td>\n",
       "      <td>0.886816</td>\n",
       "      <td>0.578734</td>\n",
       "      <td>0.700393</td>\n",
       "      <td>0.700087</td>\n",
       "      <td>0.962543</td>\n",
       "    </tr>\n",
       "  </tbody>\n",
       "</table>\n",
       "</div>"
      ],
      "text/plain": [
       "                      Accuracy  Precision    Recall        F1  Cohen Kappa  \\\n",
       "LogisticRegression    0.998581   0.444695  0.399756  0.421030     0.420322   \n",
       "GaussianNB            0.991956   0.029493  0.163961  0.049994     0.047911   \n",
       "MultinomialNB         0.628481   0.002968  0.856331  0.005916     0.003351   \n",
       "KNeighborsClassifier  0.999361   0.886816  0.578734  0.700393     0.700087   \n",
       "\n",
       "                       ROC AUC  \n",
       "LogisticRegression    0.863678  \n",
       "GaussianNB            0.809429  \n",
       "MultinomialNB         0.742458  \n",
       "KNeighborsClassifier  0.962543  "
      ]
     },
     "execution_count": 38,
     "metadata": {},
     "output_type": "execute_result"
    }
   ],
   "source": [
    "model_scorecard(model_knn,predh_knn, preds_knn)"
   ]
  },
  {
   "cell_type": "markdown",
   "id": "0402a891-fdd2-4369-a00a-880a26d8600b",
   "metadata": {},
   "source": [
    "## Decision Tree"
   ]
  },
  {
   "cell_type": "code",
   "execution_count": 39,
   "id": "a6d6ba15-0662-4718-ac6b-acb537512144",
   "metadata": {},
   "outputs": [
    {
     "name": "stdout",
     "output_type": "stream",
     "text": [
      "Fitting 6 folds for each of 12 candidates, totalling 72 fits\n",
      "Best Score 0.9152176713225993\n"
     ]
    }
   ],
   "source": [
    "tuned_params = model_tuning(DecisionTreeClassifier(),\n",
    "            {'max_depth':[5,7,9,11], 'max_leaf_nodes':[15,20,25]})"
   ]
  },
  {
   "cell_type": "code",
   "execution_count": 40,
   "id": "d3b36211-1688-401b-a4a6-944a2ac310ed",
   "metadata": {},
   "outputs": [
    {
     "data": {
      "text/plain": [
       "{'max_depth': 7, 'max_leaf_nodes': 25}"
      ]
     },
     "execution_count": 40,
     "metadata": {},
     "output_type": "execute_result"
    }
   ],
   "source": [
    "tuned_params"
   ]
  },
  {
   "cell_type": "code",
   "execution_count": 41,
   "id": "d0a3d215-fb31-4699-8399-72b029a9d111",
   "metadata": {},
   "outputs": [],
   "source": [
    "model_dt, predh_dt, preds_dt = model_train(DecisionTreeClassifier(**tuned_params),\n",
    "                                          x_train,y_train,x_test,y_test)"
   ]
  },
  {
   "cell_type": "code",
   "execution_count": 42,
   "id": "950a9b1a-0957-49d0-a3f7-da8dc055f39f",
   "metadata": {},
   "outputs": [
    {
     "name": "stdout",
     "output_type": "stream",
     "text": [
      "Classification Report\n",
      "              precision    recall  f1-score   support\n",
      "\n",
      "           0       1.00      1.00      1.00   1906322\n",
      "           1       0.82      0.72      0.76      2464\n",
      "\n",
      "    accuracy                           1.00   1908786\n",
      "   macro avg       0.91      0.86      0.88   1908786\n",
      "weighted avg       1.00      1.00      1.00   1908786\n",
      "\n"
     ]
    },
    {
     "data": {
      "image/png": "[encoded data removed]",
      "text/plain": [
       "<Figure size 640x480 with 1 Axes>"
      ]
     },
     "metadata": {},
     "output_type": "display_data"
    }
   ],
   "source": [
    "model_score(predh_dt, preds_dt)"
   ]
  },
  {
   "cell_type": "code",
   "execution_count": 43,
   "id": "e4b653a4-5336-4d89-802c-bd71892ed3be",
   "metadata": {},
   "outputs": [
    {
     "data": {
      "text/html": [
       "<div>\n",
       "<style scoped>\n",
       "    .dataframe tbody tr th:only-of-type {\n",
       "        vertical-align: middle;\n",
       "    }\n",
       "\n",
       "    .dataframe tbody tr th {\n",
       "        vertical-align: top;\n",
       "    }\n",
       "\n",
       "    .dataframe thead th {\n",
       "        text-align: right;\n",
       "    }\n",
       "</style>\n",
       "<table border=\"1\" class=\"dataframe\">\n",
       "  <thead>\n",
       "    <tr style=\"text-align: right;\">\n",
       "      <th></th>\n",
       "      <th>Accuracy</th>\n",
       "      <th>Precision</th>\n",
       "      <th>Recall</th>\n",
       "      <th>F1</th>\n",
       "      <th>Cohen Kappa</th>\n",
       "      <th>ROC AUC</th>\n",
       "    </tr>\n",
       "  </thead>\n",
       "  <tbody>\n",
       "    <tr>\n",
       "      <th>LogisticRegression</th>\n",
       "      <td>0.998581</td>\n",
       "      <td>0.444695</td>\n",
       "      <td>0.399756</td>\n",
       "      <td>0.421030</td>\n",
       "      <td>0.420322</td>\n",
       "      <td>0.863678</td>\n",
       "    </tr>\n",
       "    <tr>\n",
       "      <th>GaussianNB</th>\n",
       "      <td>0.991956</td>\n",
       "      <td>0.029493</td>\n",
       "      <td>0.163961</td>\n",
       "      <td>0.049994</td>\n",
       "      <td>0.047911</td>\n",
       "      <td>0.809429</td>\n",
       "    </tr>\n",
       "    <tr>\n",
       "      <th>MultinomialNB</th>\n",
       "      <td>0.628481</td>\n",
       "      <td>0.002968</td>\n",
       "      <td>0.856331</td>\n",
       "      <td>0.005916</td>\n",
       "      <td>0.003351</td>\n",
       "      <td>0.742458</td>\n",
       "    </tr>\n",
       "    <tr>\n",
       "      <th>KNeighborsClassifier</th>\n",
       "      <td>0.999361</td>\n",
       "      <td>0.886816</td>\n",
       "      <td>0.578734</td>\n",
       "      <td>0.700393</td>\n",
       "      <td>0.700087</td>\n",
       "      <td>0.962543</td>\n",
       "    </tr>\n",
       "    <tr>\n",
       "      <th>DecisionTreeClassifier</th>\n",
       "      <td>0.999426</td>\n",
       "      <td>0.817633</td>\n",
       "      <td>0.715097</td>\n",
       "      <td>0.762936</td>\n",
       "      <td>0.762650</td>\n",
       "      <td>0.927740</td>\n",
       "    </tr>\n",
       "  </tbody>\n",
       "</table>\n",
       "</div>"
      ],
      "text/plain": [
       "                        Accuracy  Precision    Recall        F1  Cohen Kappa  \\\n",
       "LogisticRegression      0.998581   0.444695  0.399756  0.421030     0.420322   \n",
       "GaussianNB              0.991956   0.029493  0.163961  0.049994     0.047911   \n",
       "MultinomialNB           0.628481   0.002968  0.856331  0.005916     0.003351   \n",
       "KNeighborsClassifier    0.999361   0.886816  0.578734  0.700393     0.700087   \n",
       "DecisionTreeClassifier  0.999426   0.817633  0.715097  0.762936     0.762650   \n",
       "\n",
       "                         ROC AUC  \n",
       "LogisticRegression      0.863678  \n",
       "GaussianNB              0.809429  \n",
       "MultinomialNB           0.742458  \n",
       "KNeighborsClassifier    0.962543  \n",
       "DecisionTreeClassifier  0.927740  "
      ]
     },
     "execution_count": 43,
     "metadata": {},
     "output_type": "execute_result"
    }
   ],
   "source": [
    "model_scorecard(model_dt,predh_dt, preds_dt)"
   ]
  },
  {
   "cell_type": "markdown",
   "id": "cb618ebf-7081-484a-a60e-2bd6f6c9cddb",
   "metadata": {},
   "source": [
    "## Random Forest"
   ]
  },
  {
   "cell_type": "code",
   "execution_count": 44,
   "id": "b017f65e-4c3d-4297-8bac-d565d96d7739",
   "metadata": {},
   "outputs": [
    {
     "name": "stdout",
     "output_type": "stream",
     "text": [
      "Fitting 6 folds for each of 9 candidates, totalling 54 fits\n",
      "Best Score 0.994225832552256\n"
     ]
    }
   ],
   "source": [
    "tuned_params=model_tuning(RandomForestClassifier(),\n",
    "                   grid={'n_estimators':[50,70,90],'max_depth':[6,7,8]})"
   ]
  },
  {
   "cell_type": "code",
   "execution_count": 45,
   "id": "e4421ef7-a899-49ee-a133-092961c327b2",
   "metadata": {},
   "outputs": [
    {
     "data": {
      "text/plain": [
       "{'max_depth': 8, 'n_estimators': 70}"
      ]
     },
     "execution_count": 45,
     "metadata": {},
     "output_type": "execute_result"
    }
   ],
   "source": [
    "tuned_params"
   ]
  },
  {
   "cell_type": "code",
   "execution_count": 46,
   "id": "d9ac70fb-c211-417a-b42d-c712622a6d94",
   "metadata": {},
   "outputs": [],
   "source": [
    "model_rf, predh_rf, preds_rf = model_train(RandomForestClassifier(**tuned_params),\n",
    "                                          x_train,y_train,x_test,y_test)"
   ]
  },
  {
   "cell_type": "code",
   "execution_count": 47,
   "id": "6b32e74a-2e7b-44a3-bc99-0fbf61ce32b6",
   "metadata": {},
   "outputs": [
    {
     "name": "stdout",
     "output_type": "stream",
     "text": [
      "Classification Report\n",
      "              precision    recall  f1-score   support\n",
      "\n",
      "           0       1.00      1.00      1.00   1906322\n",
      "           1       1.00      0.65      0.79      2464\n",
      "\n",
      "    accuracy                           1.00   1908786\n",
      "   macro avg       1.00      0.82      0.89   1908786\n",
      "weighted avg       1.00      1.00      1.00   1908786\n",
      "\n"
     ]
    },
    {
     "data": {
      "image/png": "[encoded data removed]",
      "text/plain": [
       "<Figure size 640x480 with 1 Axes>"
      ]
     },
     "metadata": {},
     "output_type": "display_data"
    }
   ],
   "source": [
    "model_score(predh_rf, preds_rf)"
   ]
  },
  {
   "cell_type": "code",
   "execution_count": 48,
   "id": "ee19f6bc-65b3-4964-9371-fec3f06222e5",
   "metadata": {},
   "outputs": [
    {
     "data": {
      "text/html": [
       "<div>\n",
       "<style scoped>\n",
       "    .dataframe tbody tr th:only-of-type {\n",
       "        vertical-align: middle;\n",
       "    }\n",
       "\n",
       "    .dataframe tbody tr th {\n",
       "        vertical-align: top;\n",
       "    }\n",
       "\n",
       "    .dataframe thead th {\n",
       "        text-align: right;\n",
       "    }\n",
       "</style>\n",
       "<table border=\"1\" class=\"dataframe\">\n",
       "  <thead>\n",
       "    <tr style=\"text-align: right;\">\n",
       "      <th></th>\n",
       "      <th>Accuracy</th>\n",
       "      <th>Precision</th>\n",
       "      <th>Recall</th>\n",
       "      <th>F1</th>\n",
       "      <th>Cohen Kappa</th>\n",
       "      <th>ROC AUC</th>\n",
       "    </tr>\n",
       "  </thead>\n",
       "  <tbody>\n",
       "    <tr>\n",
       "      <th>LogisticRegression</th>\n",
       "      <td>0.998581</td>\n",
       "      <td>0.444695</td>\n",
       "      <td>0.399756</td>\n",
       "      <td>0.421030</td>\n",
       "      <td>0.420322</td>\n",
       "      <td>0.863678</td>\n",
       "    </tr>\n",
       "    <tr>\n",
       "      <th>GaussianNB</th>\n",
       "      <td>0.991956</td>\n",
       "      <td>0.029493</td>\n",
       "      <td>0.163961</td>\n",
       "      <td>0.049994</td>\n",
       "      <td>0.047911</td>\n",
       "      <td>0.809429</td>\n",
       "    </tr>\n",
       "    <tr>\n",
       "      <th>MultinomialNB</th>\n",
       "      <td>0.628481</td>\n",
       "      <td>0.002968</td>\n",
       "      <td>0.856331</td>\n",
       "      <td>0.005916</td>\n",
       "      <td>0.003351</td>\n",
       "      <td>0.742458</td>\n",
       "    </tr>\n",
       "    <tr>\n",
       "      <th>KNeighborsClassifier</th>\n",
       "      <td>0.999361</td>\n",
       "      <td>0.886816</td>\n",
       "      <td>0.578734</td>\n",
       "      <td>0.700393</td>\n",
       "      <td>0.700087</td>\n",
       "      <td>0.962543</td>\n",
       "    </tr>\n",
       "    <tr>\n",
       "      <th>DecisionTreeClassifier</th>\n",
       "      <td>0.999426</td>\n",
       "      <td>0.817633</td>\n",
       "      <td>0.715097</td>\n",
       "      <td>0.762936</td>\n",
       "      <td>0.762650</td>\n",
       "      <td>0.927740</td>\n",
       "    </tr>\n",
       "    <tr>\n",
       "      <th>RandomForestClassifier</th>\n",
       "      <td>0.999546</td>\n",
       "      <td>0.999375</td>\n",
       "      <td>0.648945</td>\n",
       "      <td>0.786909</td>\n",
       "      <td>0.786693</td>\n",
       "      <td>0.994028</td>\n",
       "    </tr>\n",
       "  </tbody>\n",
       "</table>\n",
       "</div>"
      ],
      "text/plain": [
       "                        Accuracy  Precision    Recall        F1  Cohen Kappa  \\\n",
       "LogisticRegression      0.998581   0.444695  0.399756  0.421030     0.420322   \n",
       "GaussianNB              0.991956   0.029493  0.163961  0.049994     0.047911   \n",
       "MultinomialNB           0.628481   0.002968  0.856331  0.005916     0.003351   \n",
       "KNeighborsClassifier    0.999361   0.886816  0.578734  0.700393     0.700087   \n",
       "DecisionTreeClassifier  0.999426   0.817633  0.715097  0.762936     0.762650   \n",
       "RandomForestClassifier  0.999546   0.999375  0.648945  0.786909     0.786693   \n",
       "\n",
       "                         ROC AUC  \n",
       "LogisticRegression      0.863678  \n",
       "GaussianNB              0.809429  \n",
       "MultinomialNB           0.742458  \n",
       "KNeighborsClassifier    0.962543  \n",
       "DecisionTreeClassifier  0.927740  \n",
       "RandomForestClassifier  0.994028  "
      ]
     },
     "execution_count": 48,
     "metadata": {},
     "output_type": "execute_result"
    }
   ],
   "source": [
    "model_scorecard(model_rf,predh_rf, preds_rf)"
   ]
  },
  {
   "cell_type": "markdown",
   "id": "0d3b0609-9442-4cf1-a7cd-2bb546d0d813",
   "metadata": {},
   "source": [
    "## Adaptive Boosting"
   ]
  },
  {
   "cell_type": "code",
   "execution_count": 51,
   "id": "35059deb-d560-4cff-b2b1-741901142f63",
   "metadata": {},
   "outputs": [
    {
     "name": "stdout",
     "output_type": "stream",
     "text": [
      "Fitting 6 folds for each of 3 candidates, totalling 18 fits\n",
      "Best Score 0.9966477163721551\n"
     ]
    }
   ],
   "source": [
    "tuned_params=model_tuning(AdaBoostClassifier(),\n",
    "                   grid={'n_estimators': [50,60,70]})"
   ]
  },
  {
   "cell_type": "code",
   "execution_count": 52,
   "id": "671ec57e-0ebd-4fe7-8bd8-3683243de384",
   "metadata": {},
   "outputs": [
    {
     "data": {
      "text/plain": [
       "{'n_estimators': 70}"
      ]
     },
     "execution_count": 52,
     "metadata": {},
     "output_type": "execute_result"
    }
   ],
   "source": [
    "tuned_params"
   ]
  },
  {
   "cell_type": "code",
   "execution_count": 53,
   "id": "a7dec508-7066-40dd-a0d9-e2627847e14c",
   "metadata": {},
   "outputs": [],
   "source": [
    "model_ada, predh_ada, preds_ada = model_train(AdaBoostClassifier(**tuned_params),\n",
    "                                          x_train,y_train,x_test,y_test)"
   ]
  },
  {
   "cell_type": "code",
   "execution_count": 54,
   "id": "389d5099-82d4-466a-9126-2c62d54bc84e",
   "metadata": {},
   "outputs": [
    {
     "name": "stdout",
     "output_type": "stream",
     "text": [
      "Classification Report\n",
      "              precision    recall  f1-score   support\n",
      "\n",
      "           0       1.00      1.00      1.00   1906322\n",
      "           1       0.98      0.47      0.64      2464\n",
      "\n",
      "    accuracy                           1.00   1908786\n",
      "   macro avg       0.99      0.74      0.82   1908786\n",
      "weighted avg       1.00      1.00      1.00   1908786\n",
      "\n"
     ]
    },
    {
     "data": {
      "image/png": "[encoded data removed]",
      "text/plain": [
       "<Figure size 640x480 with 1 Axes>"
      ]
     },
     "metadata": {},
     "output_type": "display_data"
    }
   ],
   "source": [
    "model_score(predh_ada, preds_ada)"
   ]
  },
  {
   "cell_type": "code",
   "execution_count": 55,
   "id": "ca2fbf6e-108b-4d07-9f5f-07479b2411e6",
   "metadata": {},
   "outputs": [
    {
     "data": {
      "text/html": [
       "<div>\n",
       "<style scoped>\n",
       "    .dataframe tbody tr th:only-of-type {\n",
       "        vertical-align: middle;\n",
       "    }\n",
       "\n",
       "    .dataframe tbody tr th {\n",
       "        vertical-align: top;\n",
       "    }\n",
       "\n",
       "    .dataframe thead th {\n",
       "        text-align: right;\n",
       "    }\n",
       "</style>\n",
       "<table border=\"1\" class=\"dataframe\">\n",
       "  <thead>\n",
       "    <tr style=\"text-align: right;\">\n",
       "      <th></th>\n",
       "      <th>Accuracy</th>\n",
       "      <th>Precision</th>\n",
       "      <th>Recall</th>\n",
       "      <th>F1</th>\n",
       "      <th>Cohen Kappa</th>\n",
       "      <th>ROC AUC</th>\n",
       "    </tr>\n",
       "  </thead>\n",
       "  <tbody>\n",
       "    <tr>\n",
       "      <th>LogisticRegression</th>\n",
       "      <td>0.998581</td>\n",
       "      <td>0.444695</td>\n",
       "      <td>0.399756</td>\n",
       "      <td>0.421030</td>\n",
       "      <td>0.420322</td>\n",
       "      <td>0.863678</td>\n",
       "    </tr>\n",
       "    <tr>\n",
       "      <th>GaussianNB</th>\n",
       "      <td>0.991956</td>\n",
       "      <td>0.029493</td>\n",
       "      <td>0.163961</td>\n",
       "      <td>0.049994</td>\n",
       "      <td>0.047911</td>\n",
       "      <td>0.809429</td>\n",
       "    </tr>\n",
       "    <tr>\n",
       "      <th>MultinomialNB</th>\n",
       "      <td>0.628481</td>\n",
       "      <td>0.002968</td>\n",
       "      <td>0.856331</td>\n",
       "      <td>0.005916</td>\n",
       "      <td>0.003351</td>\n",
       "      <td>0.742458</td>\n",
       "    </tr>\n",
       "    <tr>\n",
       "      <th>KNeighborsClassifier</th>\n",
       "      <td>0.999361</td>\n",
       "      <td>0.886816</td>\n",
       "      <td>0.578734</td>\n",
       "      <td>0.700393</td>\n",
       "      <td>0.700087</td>\n",
       "      <td>0.962543</td>\n",
       "    </tr>\n",
       "    <tr>\n",
       "      <th>DecisionTreeClassifier</th>\n",
       "      <td>0.999426</td>\n",
       "      <td>0.817633</td>\n",
       "      <td>0.715097</td>\n",
       "      <td>0.762936</td>\n",
       "      <td>0.762650</td>\n",
       "      <td>0.927740</td>\n",
       "    </tr>\n",
       "    <tr>\n",
       "      <th>RandomForestClassifier</th>\n",
       "      <td>0.999546</td>\n",
       "      <td>0.999375</td>\n",
       "      <td>0.648945</td>\n",
       "      <td>0.786909</td>\n",
       "      <td>0.786693</td>\n",
       "      <td>0.994028</td>\n",
       "    </tr>\n",
       "    <tr>\n",
       "      <th>AdaBoostClassifier</th>\n",
       "      <td>0.999308</td>\n",
       "      <td>0.984733</td>\n",
       "      <td>0.471185</td>\n",
       "      <td>0.637387</td>\n",
       "      <td>0.637084</td>\n",
       "      <td>0.996337</td>\n",
       "    </tr>\n",
       "  </tbody>\n",
       "</table>\n",
       "</div>"
      ],
      "text/plain": [
       "                        Accuracy  Precision    Recall        F1  Cohen Kappa  \\\n",
       "LogisticRegression      0.998581   0.444695  0.399756  0.421030     0.420322   \n",
       "GaussianNB              0.991956   0.029493  0.163961  0.049994     0.047911   \n",
       "MultinomialNB           0.628481   0.002968  0.856331  0.005916     0.003351   \n",
       "KNeighborsClassifier    0.999361   0.886816  0.578734  0.700393     0.700087   \n",
       "DecisionTreeClassifier  0.999426   0.817633  0.715097  0.762936     0.762650   \n",
       "RandomForestClassifier  0.999546   0.999375  0.648945  0.786909     0.786693   \n",
       "AdaBoostClassifier      0.999308   0.984733  0.471185  0.637387     0.637084   \n",
       "\n",
       "                         ROC AUC  \n",
       "LogisticRegression      0.863678  \n",
       "GaussianNB              0.809429  \n",
       "MultinomialNB           0.742458  \n",
       "KNeighborsClassifier    0.962543  \n",
       "DecisionTreeClassifier  0.927740  \n",
       "RandomForestClassifier  0.994028  \n",
       "AdaBoostClassifier      0.996337  "
      ]
     },
     "execution_count": 55,
     "metadata": {},
     "output_type": "execute_result"
    }
   ],
   "source": [
    "model_scorecard(model_ada,predh_ada, preds_ada)"
   ]
  },
  {
   "cell_type": "markdown",
   "id": "3be8aac8-26cf-4c33-abf3-bd7fedfbced3",
   "metadata": {},
   "source": [
    "## Gradient Boosting"
   ]
  },
  {
   "cell_type": "code",
   "execution_count": 66,
   "id": "212e85a2-0744-45ad-9ad6-68148005ade4",
   "metadata": {},
   "outputs": [
    {
     "name": "stdout",
     "output_type": "stream",
     "text": [
      "Fitting 6 folds for each of 4 candidates, totalling 24 fits\n",
      "Best Score 0.8096920044301129\n"
     ]
    }
   ],
   "source": [
    "tuned_params = model_tuning(GradientBoostingClassifier(random_state=2), grid = {'n_estimators':[80,90],\n",
    "                                                                                'max_depth':[7,8]})"
   ]
  },
  {
   "cell_type": "code",
   "execution_count": 67,
   "id": "7e9b8a48-35b8-4b95-b7eb-d3ce20030a99",
   "metadata": {},
   "outputs": [
    {
     "data": {
      "text/plain": [
       "{'max_depth': 8, 'n_estimators': 90}"
      ]
     },
     "execution_count": 67,
     "metadata": {},
     "output_type": "execute_result"
    }
   ],
   "source": [
    "tuned_params"
   ]
  },
  {
   "cell_type": "code",
   "execution_count": 68,
   "id": "2b3bfdf1-35ab-4b17-8300-997fcad0d0b5",
   "metadata": {},
   "outputs": [],
   "source": [
    "model_gb, predh_gb, preds_gb = model_train(GradientBoostingClassifier(random_state=2,**tuned_params),\n",
    "                                              x_train,y_train,x_test,y_test)"
   ]
  },
  {
   "cell_type": "code",
   "execution_count": 69,
   "id": "249f933d-7074-4360-9443-4cffb840d6b5",
   "metadata": {},
   "outputs": [
    {
     "name": "stdout",
     "output_type": "stream",
     "text": [
      "Classification Report\n",
      "              precision    recall  f1-score   support\n",
      "\n",
      "           0       1.00      1.00      1.00   1906322\n",
      "           1       0.84      0.51      0.63      2464\n",
      "\n",
      "    accuracy                           1.00   1908786\n",
      "   macro avg       0.92      0.75      0.82   1908786\n",
      "weighted avg       1.00      1.00      1.00   1908786\n",
      "\n"
     ]
    },
    {
     "data": {
      "image/png": "[encoded data removed]",
      "text/plain": [
       "<Figure size 640x480 with 1 Axes>"
      ]
     },
     "metadata": {},
     "output_type": "display_data"
    }
   ],
   "source": [
    "model_score(predh_gb, preds_gb)"
   ]
  },
  {
   "cell_type": "code",
   "execution_count": 70,
   "id": "f148b0b7-af3c-44e9-8e37-dce9791ba2b0",
   "metadata": {},
   "outputs": [
    {
     "data": {
      "text/html": [
       "<div>\n",
       "<style scoped>\n",
       "    .dataframe tbody tr th:only-of-type {\n",
       "        vertical-align: middle;\n",
       "    }\n",
       "\n",
       "    .dataframe tbody tr th {\n",
       "        vertical-align: top;\n",
       "    }\n",
       "\n",
       "    .dataframe thead th {\n",
       "        text-align: right;\n",
       "    }\n",
       "</style>\n",
       "<table border=\"1\" class=\"dataframe\">\n",
       "  <thead>\n",
       "    <tr style=\"text-align: right;\">\n",
       "      <th></th>\n",
       "      <th>Accuracy</th>\n",
       "      <th>Precision</th>\n",
       "      <th>Recall</th>\n",
       "      <th>F1</th>\n",
       "      <th>Cohen Kappa</th>\n",
       "      <th>ROC AUC</th>\n",
       "    </tr>\n",
       "  </thead>\n",
       "  <tbody>\n",
       "    <tr>\n",
       "      <th>LogisticRegression</th>\n",
       "      <td>0.998581</td>\n",
       "      <td>0.444695</td>\n",
       "      <td>0.399756</td>\n",
       "      <td>0.421030</td>\n",
       "      <td>0.420322</td>\n",
       "      <td>0.863678</td>\n",
       "    </tr>\n",
       "    <tr>\n",
       "      <th>GaussianNB</th>\n",
       "      <td>0.991956</td>\n",
       "      <td>0.029493</td>\n",
       "      <td>0.163961</td>\n",
       "      <td>0.049994</td>\n",
       "      <td>0.047911</td>\n",
       "      <td>0.809429</td>\n",
       "    </tr>\n",
       "    <tr>\n",
       "      <th>MultinomialNB</th>\n",
       "      <td>0.628481</td>\n",
       "      <td>0.002968</td>\n",
       "      <td>0.856331</td>\n",
       "      <td>0.005916</td>\n",
       "      <td>0.003351</td>\n",
       "      <td>0.742458</td>\n",
       "    </tr>\n",
       "    <tr>\n",
       "      <th>KNeighborsClassifier</th>\n",
       "      <td>0.999361</td>\n",
       "      <td>0.886816</td>\n",
       "      <td>0.578734</td>\n",
       "      <td>0.700393</td>\n",
       "      <td>0.700087</td>\n",
       "      <td>0.962543</td>\n",
       "    </tr>\n",
       "    <tr>\n",
       "      <th>DecisionTreeClassifier</th>\n",
       "      <td>0.999426</td>\n",
       "      <td>0.817633</td>\n",
       "      <td>0.715097</td>\n",
       "      <td>0.762936</td>\n",
       "      <td>0.762650</td>\n",
       "      <td>0.927740</td>\n",
       "    </tr>\n",
       "    <tr>\n",
       "      <th>RandomForestClassifier</th>\n",
       "      <td>0.999546</td>\n",
       "      <td>0.999375</td>\n",
       "      <td>0.648945</td>\n",
       "      <td>0.786909</td>\n",
       "      <td>0.786693</td>\n",
       "      <td>0.994028</td>\n",
       "    </tr>\n",
       "    <tr>\n",
       "      <th>AdaBoostClassifier</th>\n",
       "      <td>0.999308</td>\n",
       "      <td>0.984733</td>\n",
       "      <td>0.471185</td>\n",
       "      <td>0.637387</td>\n",
       "      <td>0.637084</td>\n",
       "      <td>0.996337</td>\n",
       "    </tr>\n",
       "    <tr>\n",
       "      <th>GradientBoostingClassifier</th>\n",
       "      <td>0.999238</td>\n",
       "      <td>0.835662</td>\n",
       "      <td>0.509740</td>\n",
       "      <td>0.633224</td>\n",
       "      <td>0.632865</td>\n",
       "      <td>0.695013</td>\n",
       "    </tr>\n",
       "  </tbody>\n",
       "</table>\n",
       "</div>"
      ],
      "text/plain": [
       "                            Accuracy  Precision    Recall        F1  \\\n",
       "LogisticRegression          0.998581   0.444695  0.399756  0.421030   \n",
       "GaussianNB                  0.991956   0.029493  0.163961  0.049994   \n",
       "MultinomialNB               0.628481   0.002968  0.856331  0.005916   \n",
       "KNeighborsClassifier        0.999361   0.886816  0.578734  0.700393   \n",
       "DecisionTreeClassifier      0.999426   0.817633  0.715097  0.762936   \n",
       "RandomForestClassifier      0.999546   0.999375  0.648945  0.786909   \n",
       "AdaBoostClassifier          0.999308   0.984733  0.471185  0.637387   \n",
       "GradientBoostingClassifier  0.999238   0.835662  0.509740  0.633224   \n",
       "\n",
       "                            Cohen Kappa   ROC AUC  \n",
       "LogisticRegression             0.420322  0.863678  \n",
       "GaussianNB                     0.047911  0.809429  \n",
       "MultinomialNB                  0.003351  0.742458  \n",
       "KNeighborsClassifier           0.700087  0.962543  \n",
       "DecisionTreeClassifier         0.762650  0.927740  \n",
       "RandomForestClassifier         0.786693  0.994028  \n",
       "AdaBoostClassifier             0.637084  0.996337  \n",
       "GradientBoostingClassifier     0.632865  0.695013  "
      ]
     },
     "execution_count": 70,
     "metadata": {},
     "output_type": "execute_result"
    }
   ],
   "source": [
    "model_scorecard(model_gb,predh_gb, preds_gb)"
   ]
  },
  {
   "cell_type": "markdown",
   "id": "ceb4e3c7-d2a5-430f-b2e7-9824303669fa",
   "metadata": {},
   "source": [
    "## Light GBM"
   ]
  },
  {
   "cell_type": "code",
   "execution_count": 62,
   "id": "4acaad9f-e990-4629-b3ae-1713dc7a39bd",
   "metadata": {},
   "outputs": [
    {
     "name": "stdout",
     "output_type": "stream",
     "text": [
      "Fitting 6 folds for each of 6 candidates, totalling 36 fits\n",
      "[LightGBM] [Info] Number of positive: 5749, number of negative: 4448085\n",
      "[LightGBM] [Info] Auto-choosing row-wise multi-threading, the overhead of testing was 0.033911 seconds.\n",
      "You can set `force_row_wise=true` to remove the overhead.\n",
      "And if memory is not enough, you can set `force_col_wise=true`.\n",
      "[LightGBM] [Info] Total Bins 1322\n",
      "[LightGBM] [Info] Number of data points in the train set: 4453834, number of used features: 12\n",
      "[LightGBM] [Info] [binary:BoostFromScore]: pavg=0.001291 -> initscore=-6.651203\n",
      "[LightGBM] [Info] Start training from score -6.651203\n",
      "Best Score 0.8569981528810029\n"
     ]
    }
   ],
   "source": [
    "tuned_params = model_tuning(LGBMClassifier(random_state=2), grid = {'n_estimators':[60,80,100],\n",
    "                                                                                'max_depth':[7,8]})"
   ]
  },
  {
   "cell_type": "code",
   "execution_count": 63,
   "id": "88582218-eb25-43ae-a49d-3b6f6626f350",
   "metadata": {},
   "outputs": [
    {
     "data": {
      "text/plain": [
       "{'max_depth': 7, 'n_estimators': 60}"
      ]
     },
     "execution_count": 63,
     "metadata": {},
     "output_type": "execute_result"
    }
   ],
   "source": [
    "tuned_params"
   ]
  },
  {
   "cell_type": "code",
   "execution_count": 64,
   "id": "a3d8ab1d-7bea-49a1-842c-aca744cd3316",
   "metadata": {},
   "outputs": [
    {
     "name": "stdout",
     "output_type": "stream",
     "text": [
      "[LightGBM] [Info] Number of positive: 5749, number of negative: 4448085\n",
      "[LightGBM] [Info] Auto-choosing row-wise multi-threading, the overhead of testing was 0.022637 seconds.\n",
      "You can set `force_row_wise=true` to remove the overhead.\n",
      "And if memory is not enough, you can set `force_col_wise=true`.\n",
      "[LightGBM] [Info] Total Bins 1322\n",
      "[LightGBM] [Info] Number of data points in the train set: 4453834, number of used features: 12\n",
      "[LightGBM] [Info] [binary:BoostFromScore]: pavg=0.001291 -> initscore=-6.651203\n",
      "[LightGBM] [Info] Start training from score -6.651203\n"
     ]
    }
   ],
   "source": [
    "model_lgbm, predh_lgbm, preds_lgbm = model_train(LGBMClassifier(random_state=2,**tuned_params),\n",
    "                                              x_train,y_train,x_test,y_test)"
   ]
  },
  {
   "cell_type": "code",
   "execution_count": 65,
   "id": "75e4b4b2-c552-4a26-9079-610d42c41495",
   "metadata": {},
   "outputs": [
    {
     "name": "stdout",
     "output_type": "stream",
     "text": [
      "Classification Report\n",
      "              precision    recall  f1-score   support\n",
      "\n",
      "           0       1.00      1.00      1.00   1906322\n",
      "           1       0.60      0.74      0.66      2464\n",
      "\n",
      "    accuracy                           1.00   1908786\n",
      "   macro avg       0.80      0.87      0.83   1908786\n",
      "weighted avg       1.00      1.00      1.00   1908786\n",
      "\n"
     ]
    },
    {
     "data": {
      "image/png": "[encoded data removed]",
      "text/plain": [
       "<Figure size 640x480 with 1 Axes>"
      ]
     },
     "metadata": {},
     "output_type": "display_data"
    }
   ],
   "source": [
    "model_score(predh_lgbm, preds_lgbm)"
   ]
  },
  {
   "cell_type": "code",
   "execution_count": 71,
   "id": "a1277b8c-8b7b-4c3e-a35a-5cdd06521c5b",
   "metadata": {},
   "outputs": [
    {
     "data": {
      "text/html": [
       "<div>\n",
       "<style scoped>\n",
       "    .dataframe tbody tr th:only-of-type {\n",
       "        vertical-align: middle;\n",
       "    }\n",
       "\n",
       "    .dataframe tbody tr th {\n",
       "        vertical-align: top;\n",
       "    }\n",
       "\n",
       "    .dataframe thead th {\n",
       "        text-align: right;\n",
       "    }\n",
       "</style>\n",
       "<table border=\"1\" class=\"dataframe\">\n",
       "  <thead>\n",
       "    <tr style=\"text-align: right;\">\n",
       "      <th></th>\n",
       "      <th>Accuracy</th>\n",
       "      <th>Precision</th>\n",
       "      <th>Recall</th>\n",
       "      <th>F1</th>\n",
       "      <th>Cohen Kappa</th>\n",
       "      <th>ROC AUC</th>\n",
       "    </tr>\n",
       "  </thead>\n",
       "  <tbody>\n",
       "    <tr>\n",
       "      <th>LogisticRegression</th>\n",
       "      <td>0.998581</td>\n",
       "      <td>0.444695</td>\n",
       "      <td>0.399756</td>\n",
       "      <td>0.421030</td>\n",
       "      <td>0.420322</td>\n",
       "      <td>0.863678</td>\n",
       "    </tr>\n",
       "    <tr>\n",
       "      <th>GaussianNB</th>\n",
       "      <td>0.991956</td>\n",
       "      <td>0.029493</td>\n",
       "      <td>0.163961</td>\n",
       "      <td>0.049994</td>\n",
       "      <td>0.047911</td>\n",
       "      <td>0.809429</td>\n",
       "    </tr>\n",
       "    <tr>\n",
       "      <th>MultinomialNB</th>\n",
       "      <td>0.628481</td>\n",
       "      <td>0.002968</td>\n",
       "      <td>0.856331</td>\n",
       "      <td>0.005916</td>\n",
       "      <td>0.003351</td>\n",
       "      <td>0.742458</td>\n",
       "    </tr>\n",
       "    <tr>\n",
       "      <th>KNeighborsClassifier</th>\n",
       "      <td>0.999361</td>\n",
       "      <td>0.886816</td>\n",
       "      <td>0.578734</td>\n",
       "      <td>0.700393</td>\n",
       "      <td>0.700087</td>\n",
       "      <td>0.962543</td>\n",
       "    </tr>\n",
       "    <tr>\n",
       "      <th>DecisionTreeClassifier</th>\n",
       "      <td>0.999426</td>\n",
       "      <td>0.817633</td>\n",
       "      <td>0.715097</td>\n",
       "      <td>0.762936</td>\n",
       "      <td>0.762650</td>\n",
       "      <td>0.927740</td>\n",
       "    </tr>\n",
       "    <tr>\n",
       "      <th>RandomForestClassifier</th>\n",
       "      <td>0.999546</td>\n",
       "      <td>0.999375</td>\n",
       "      <td>0.648945</td>\n",
       "      <td>0.786909</td>\n",
       "      <td>0.786693</td>\n",
       "      <td>0.994028</td>\n",
       "    </tr>\n",
       "    <tr>\n",
       "      <th>AdaBoostClassifier</th>\n",
       "      <td>0.999308</td>\n",
       "      <td>0.984733</td>\n",
       "      <td>0.471185</td>\n",
       "      <td>0.637387</td>\n",
       "      <td>0.637084</td>\n",
       "      <td>0.996337</td>\n",
       "    </tr>\n",
       "    <tr>\n",
       "      <th>GradientBoostingClassifier</th>\n",
       "      <td>0.999238</td>\n",
       "      <td>0.835662</td>\n",
       "      <td>0.509740</td>\n",
       "      <td>0.633224</td>\n",
       "      <td>0.632865</td>\n",
       "      <td>0.695013</td>\n",
       "    </tr>\n",
       "    <tr>\n",
       "      <th>LGBMClassifier</th>\n",
       "      <td>0.999018</td>\n",
       "      <td>0.597167</td>\n",
       "      <td>0.735795</td>\n",
       "      <td>0.659273</td>\n",
       "      <td>0.658786</td>\n",
       "      <td>0.906800</td>\n",
       "    </tr>\n",
       "  </tbody>\n",
       "</table>\n",
       "</div>"
      ],
      "text/plain": [
       "                            Accuracy  Precision    Recall        F1  \\\n",
       "LogisticRegression          0.998581   0.444695  0.399756  0.421030   \n",
       "GaussianNB                  0.991956   0.029493  0.163961  0.049994   \n",
       "MultinomialNB               0.628481   0.002968  0.856331  0.005916   \n",
       "KNeighborsClassifier        0.999361   0.886816  0.578734  0.700393   \n",
       "DecisionTreeClassifier      0.999426   0.817633  0.715097  0.762936   \n",
       "RandomForestClassifier      0.999546   0.999375  0.648945  0.786909   \n",
       "AdaBoostClassifier          0.999308   0.984733  0.471185  0.637387   \n",
       "GradientBoostingClassifier  0.999238   0.835662  0.509740  0.633224   \n",
       "LGBMClassifier              0.999018   0.597167  0.735795  0.659273   \n",
       "\n",
       "                            Cohen Kappa   ROC AUC  \n",
       "LogisticRegression             0.420322  0.863678  \n",
       "GaussianNB                     0.047911  0.809429  \n",
       "MultinomialNB                  0.003351  0.742458  \n",
       "KNeighborsClassifier           0.700087  0.962543  \n",
       "DecisionTreeClassifier         0.762650  0.927740  \n",
       "RandomForestClassifier         0.786693  0.994028  \n",
       "AdaBoostClassifier             0.637084  0.996337  \n",
       "GradientBoostingClassifier     0.632865  0.695013  \n",
       "LGBMClassifier                 0.658786  0.906800  "
      ]
     },
     "execution_count": 71,
     "metadata": {},
     "output_type": "execute_result"
    }
   ],
   "source": [
    "model_scorecard(model_lgbm,predh_lgbm, preds_lgbm)"
   ]
  },
  {
   "cell_type": "markdown",
   "id": "da739514-394b-49b7-8dcc-bd135c952c87",
   "metadata": {},
   "source": [
    "## XG Boost"
   ]
  },
  {
   "cell_type": "code",
   "execution_count": 57,
   "id": "bc44ec05-53fe-4aac-bc93-5f058ab14ba6",
   "metadata": {},
   "outputs": [
    {
     "name": "stdout",
     "output_type": "stream",
     "text": [
      "Fitting 6 folds for each of 12 candidates, totalling 72 fits\n",
      "Best Score 0.9972394627000932\n"
     ]
    }
   ],
   "source": [
    "tuned_params=model_tuning(XGBClassifier(),\n",
    "                   grid={'max_depth': [7,9], 'n_estimators': [80,90], 'reg_lambda': [2,3,4]})"
   ]
  },
  {
   "cell_type": "code",
   "execution_count": 58,
   "id": "40b50dcd-96d7-4548-8438-c3e4bad36bf8",
   "metadata": {},
   "outputs": [
    {
     "data": {
      "text/plain": [
       "{'max_depth': 9, 'n_estimators': 90, 'reg_lambda': 3}"
      ]
     },
     "execution_count": 58,
     "metadata": {},
     "output_type": "execute_result"
    }
   ],
   "source": [
    "tuned_params"
   ]
  },
  {
   "cell_type": "code",
   "execution_count": 59,
   "id": "e9b3ea83-4ecb-44c5-a7f0-cdc6cf628ba8",
   "metadata": {},
   "outputs": [],
   "source": [
    "model_xgb, predh_xgb, preds_xgb = model_train(XGBClassifier(**tuned_params),\n",
    "                                          x_train,y_train,x_test,y_test)"
   ]
  },
  {
   "cell_type": "code",
   "execution_count": 60,
   "id": "bc25d715-f451-4fa4-9c49-dfab5bdf555b",
   "metadata": {},
   "outputs": [
    {
     "name": "stdout",
     "output_type": "stream",
     "text": [
      "Classification Report\n",
      "              precision    recall  f1-score   support\n",
      "\n",
      "           0       1.00      1.00      1.00   1906322\n",
      "           1       0.95      0.85      0.90      2464\n",
      "\n",
      "    accuracy                           1.00   1908786\n",
      "   macro avg       0.97      0.93      0.95   1908786\n",
      "weighted avg       1.00      1.00      1.00   1908786\n",
      "\n"
     ]
    },
    {
     "data": {
      "image/png": "[encoded data removed]",
      "text/plain": [
       "<Figure size 640x480 with 1 Axes>"
      ]
     },
     "metadata": {},
     "output_type": "display_data"
    }
   ],
   "source": [
    "model_score(predh_xgb, preds_xgb)"
   ]
  },
  {
   "cell_type": "code",
   "execution_count": 72,
   "id": "86783736-0ad0-455d-b270-d4df1c7ce220",
   "metadata": {},
   "outputs": [],
   "source": [
    "scorecard = model_scorecard(model_xgb,predh_xgb, preds_xgb)"
   ]
  },
  {
   "cell_type": "code",
   "execution_count": 75,
   "id": "7fd2bb0d-6527-456d-a422-ec3ded04c466",
   "metadata": {},
   "outputs": [
    {
     "data": {
      "text/html": [
       "<div>\n",
       "<style scoped>\n",
       "    .dataframe tbody tr th:only-of-type {\n",
       "        vertical-align: middle;\n",
       "    }\n",
       "\n",
       "    .dataframe tbody tr th {\n",
       "        vertical-align: top;\n",
       "    }\n",
       "\n",
       "    .dataframe thead th {\n",
       "        text-align: right;\n",
       "    }\n",
       "</style>\n",
       "<table border=\"1\" class=\"dataframe\">\n",
       "  <thead>\n",
       "    <tr style=\"text-align: right;\">\n",
       "      <th></th>\n",
       "      <th>Accuracy</th>\n",
       "      <th>Precision</th>\n",
       "      <th>Recall</th>\n",
       "      <th>F1</th>\n",
       "      <th>Cohen Kappa</th>\n",
       "      <th>ROC AUC</th>\n",
       "    </tr>\n",
       "  </thead>\n",
       "  <tbody>\n",
       "    <tr>\n",
       "      <th>XGBClassifier</th>\n",
       "      <td>0.999750</td>\n",
       "      <td>0.947321</td>\n",
       "      <td>0.853896</td>\n",
       "      <td>0.898186</td>\n",
       "      <td>0.898061</td>\n",
       "      <td>0.995535</td>\n",
       "    </tr>\n",
       "    <tr>\n",
       "      <th>RandomForestClassifier</th>\n",
       "      <td>0.999546</td>\n",
       "      <td>0.999375</td>\n",
       "      <td>0.648945</td>\n",
       "      <td>0.786909</td>\n",
       "      <td>0.786693</td>\n",
       "      <td>0.994028</td>\n",
       "    </tr>\n",
       "    <tr>\n",
       "      <th>DecisionTreeClassifier</th>\n",
       "      <td>0.999426</td>\n",
       "      <td>0.817633</td>\n",
       "      <td>0.715097</td>\n",
       "      <td>0.762936</td>\n",
       "      <td>0.762650</td>\n",
       "      <td>0.927740</td>\n",
       "    </tr>\n",
       "    <tr>\n",
       "      <th>KNeighborsClassifier</th>\n",
       "      <td>0.999361</td>\n",
       "      <td>0.886816</td>\n",
       "      <td>0.578734</td>\n",
       "      <td>0.700393</td>\n",
       "      <td>0.700087</td>\n",
       "      <td>0.962543</td>\n",
       "    </tr>\n",
       "    <tr>\n",
       "      <th>LGBMClassifier</th>\n",
       "      <td>0.999018</td>\n",
       "      <td>0.597167</td>\n",
       "      <td>0.735795</td>\n",
       "      <td>0.659273</td>\n",
       "      <td>0.658786</td>\n",
       "      <td>0.906800</td>\n",
       "    </tr>\n",
       "    <tr>\n",
       "      <th>AdaBoostClassifier</th>\n",
       "      <td>0.999308</td>\n",
       "      <td>0.984733</td>\n",
       "      <td>0.471185</td>\n",
       "      <td>0.637387</td>\n",
       "      <td>0.637084</td>\n",
       "      <td>0.996337</td>\n",
       "    </tr>\n",
       "    <tr>\n",
       "      <th>GradientBoostingClassifier</th>\n",
       "      <td>0.999238</td>\n",
       "      <td>0.835662</td>\n",
       "      <td>0.509740</td>\n",
       "      <td>0.633224</td>\n",
       "      <td>0.632865</td>\n",
       "      <td>0.695013</td>\n",
       "    </tr>\n",
       "    <tr>\n",
       "      <th>LogisticRegression</th>\n",
       "      <td>0.998581</td>\n",
       "      <td>0.444695</td>\n",
       "      <td>0.399756</td>\n",
       "      <td>0.421030</td>\n",
       "      <td>0.420322</td>\n",
       "      <td>0.863678</td>\n",
       "    </tr>\n",
       "    <tr>\n",
       "      <th>GaussianNB</th>\n",
       "      <td>0.991956</td>\n",
       "      <td>0.029493</td>\n",
       "      <td>0.163961</td>\n",
       "      <td>0.049994</td>\n",
       "      <td>0.047911</td>\n",
       "      <td>0.809429</td>\n",
       "    </tr>\n",
       "    <tr>\n",
       "      <th>MultinomialNB</th>\n",
       "      <td>0.628481</td>\n",
       "      <td>0.002968</td>\n",
       "      <td>0.856331</td>\n",
       "      <td>0.005916</td>\n",
       "      <td>0.003351</td>\n",
       "      <td>0.742458</td>\n",
       "    </tr>\n",
       "  </tbody>\n",
       "</table>\n",
       "</div>"
      ],
      "text/plain": [
       "                            Accuracy  Precision    Recall        F1  \\\n",
       "XGBClassifier               0.999750   0.947321  0.853896  0.898186   \n",
       "RandomForestClassifier      0.999546   0.999375  0.648945  0.786909   \n",
       "DecisionTreeClassifier      0.999426   0.817633  0.715097  0.762936   \n",
       "KNeighborsClassifier        0.999361   0.886816  0.578734  0.700393   \n",
       "LGBMClassifier              0.999018   0.597167  0.735795  0.659273   \n",
       "AdaBoostClassifier          0.999308   0.984733  0.471185  0.637387   \n",
       "GradientBoostingClassifier  0.999238   0.835662  0.509740  0.633224   \n",
       "LogisticRegression          0.998581   0.444695  0.399756  0.421030   \n",
       "GaussianNB                  0.991956   0.029493  0.163961  0.049994   \n",
       "MultinomialNB               0.628481   0.002968  0.856331  0.005916   \n",
       "\n",
       "                            Cohen Kappa   ROC AUC  \n",
       "XGBClassifier                  0.898061  0.995535  \n",
       "RandomForestClassifier         0.786693  0.994028  \n",
       "DecisionTreeClassifier         0.762650  0.927740  \n",
       "KNeighborsClassifier           0.700087  0.962543  \n",
       "LGBMClassifier                 0.658786  0.906800  \n",
       "AdaBoostClassifier             0.637084  0.996337  \n",
       "GradientBoostingClassifier     0.632865  0.695013  \n",
       "LogisticRegression             0.420322  0.863678  \n",
       "GaussianNB                     0.047911  0.809429  \n",
       "MultinomialNB                  0.003351  0.742458  "
      ]
     },
     "execution_count": 75,
     "metadata": {},
     "output_type": "execute_result"
    }
   ],
   "source": [
    "scorecard.sort_values(by='Cohen Kappa', ascending=False)"
   ]
  },
  {
   "cell_type": "markdown",
   "id": "883b36f0-8ae8-4281-ac8e-010250ac9c90",
   "metadata": {},
   "source": [
    "## Final Model"
   ]
  },
  {
   "cell_type": "raw",
   "id": "f00ccfe7-ef6a-473f-b027-aafe5d680ebb",
   "metadata": {},
   "source": [
    "Based on the results, the XGBoost Classifier demonstrated superior performance, achieving an outstanding Cohen’s Kappa score of 0.898 and an excellent ROC AUC score of 0.995, indicating high accuracy and strong predictive capability for the target variable"
   ]
  },
  {
   "cell_type": "code",
   "execution_count": 77,
   "id": "4cbf973e-463a-4b7c-9d3b-1f285b2a7e8e",
   "metadata": {},
   "outputs": [
    {
     "name": "stderr",
     "output_type": "stream",
     "text": [
      "[Parallel(n_jobs=-1)]: Using backend LokyBackend with 12 concurrent workers.\n",
      "[Parallel(n_jobs=-1)]: Done   7 out of   7 | elapsed:  3.6min finished\n"
     ]
    }
   ],
   "source": [
    "# Validating the final model \n",
    "scores = cross_val_score(estimator=model_xgb, cv=KFold(n_splits=7,shuffle=True, random_state=2),\n",
    "                        scoring='roc_auc',X=x, y=y, n_jobs=-1, verbose=1)"
   ]
  },
  {
   "cell_type": "code",
   "execution_count": 80,
   "id": "4baabbeb-75c6-496b-9942-754544a2eb26",
   "metadata": {},
   "outputs": [
    {
     "data": {
      "text/plain": [
       "array([0.99551644, 0.99726225, 0.99811344, 0.99799022, 0.9944706 ,\n",
       "       0.99319847, 0.99520927])"
      ]
     },
     "execution_count": 80,
     "metadata": {},
     "output_type": "execute_result"
    }
   ],
   "source": [
    "scores"
   ]
  },
  {
   "cell_type": "code",
   "execution_count": 83,
   "id": "165fa4ea-8d75-44e4-b7e7-0fc9d01f008e",
   "metadata": {},
   "outputs": [
    {
     "name": "stdout",
     "output_type": "stream",
     "text": [
      "Average score: 0.9959658126977863\n",
      "sd of score: 0.0017344974501471641\n"
     ]
    }
   ],
   "source": [
    "print('Average score:', scores.mean())\n",
    "print('sd of score:', scores.std())"
   ]
  },
  {
   "cell_type": "raw",
   "id": "aac2271f-058f-47f4-9a0b-64037a827022",
   "metadata": {},
   "source": [
    "###### Write something about scores"
   ]
  },
  {
   "cell_type": "markdown",
   "id": "4f21656a-422c-49a1-8102-e34f9c2bae63",
   "metadata": {},
   "source": [
    "## Creating a Joblib File"
   ]
  },
  {
   "cell_type": "code",
   "execution_count": 84,
   "id": "141b5aa0-58dc-4fe9-9f4d-d6033ec7f238",
   "metadata": {},
   "outputs": [],
   "source": [
    "import joblib"
   ]
  },
  {
   "cell_type": "code",
   "execution_count": 86,
   "id": "5f79b9e5-a9ca-4354-85ca-a8a2281a92a5",
   "metadata": {},
   "outputs": [],
   "source": [
    "# creating some files that we need for deployment\n",
    "with open('final_model.joblib', 'wb') as file:\n",
    "    joblib.dump(model_xgb, file)"
   ]
  },
  {
   "cell_type": "code",
   "execution_count": null,
   "id": "04bd0dd1-eb9d-4e57-ad7d-ab4652e356f6",
   "metadata": {},
   "outputs": [],
   "source": []
  }
 ],
 "metadata": {
  "kernelspec": {
   "display_name": "Python [conda env:base] *",
   "language": "python",
   "name": "conda-base-py"
  },
  "language_info": {
   "codemirror_mode": {
    "name": "ipython",
    "version": 3
   },
   "file_extension": ".py",
   "mimetype": "text/x-python",
   "name": "python",
   "nbconvert_exporter": "python",
   "pygments_lexer": "ipython3",
   "version": "3.12.7"
  }
 },
 "nbformat": 4,
 "nbformat_minor": 5
}
